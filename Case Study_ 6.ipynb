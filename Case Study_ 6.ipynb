{
 "cells": [
  {
   "cell_type": "markdown",
   "metadata": {},
   "source": [
    "# CASE STUDY ON PRE-PROCESSING"
   ]
  },
  {
   "cell_type": "code",
   "execution_count": null,
   "metadata": {
    "id": "8nHSAcpZbLQ3"
   },
   "outputs": [],
   "source": [
    "import pandas as pd\n",
    "import numpy as np\n",
    "import matplotlib.pyplot as plt\n",
    "import seaborn as sns"
   ]
  },
  {
   "cell_type": "markdown",
   "metadata": {
    "id": "BNZP2I_Eb-u-"
   },
   "source": [
    "# **1.Load the dataset into python environment**"
   ]
  },
  {
   "cell_type": "code",
   "execution_count": null,
   "metadata": {
    "colab": {
     "base_uri": "https://localhost:8080/",
     "height": 521
    },
    "id": "bLVT3whxcFO9",
    "outputId": "6eee55e2-7816-43bf-8c8c-d10d16fb15fb"
   },
   "outputs": [
    {
     "data": {
      "text/html": [
       "<div>\n",
       "<style scoped>\n",
       "    .dataframe tbody tr th:only-of-type {\n",
       "        vertical-align: middle;\n",
       "    }\n",
       "\n",
       "    .dataframe tbody tr th {\n",
       "        vertical-align: top;\n",
       "    }\n",
       "\n",
       "    .dataframe thead th {\n",
       "        text-align: right;\n",
       "    }\n",
       "</style>\n",
       "<table border=\"1\" class=\"dataframe\">\n",
       "  <thead>\n",
       "    <tr style=\"text-align: right;\">\n",
       "      <th></th>\n",
       "      <th>PassengerId</th>\n",
       "      <th>Survived</th>\n",
       "      <th>Pclass</th>\n",
       "      <th>Name</th>\n",
       "      <th>Sex</th>\n",
       "      <th>Age</th>\n",
       "      <th>SibSp</th>\n",
       "      <th>Parch</th>\n",
       "      <th>Ticket</th>\n",
       "      <th>Fare</th>\n",
       "      <th>Cabin</th>\n",
       "      <th>Embarked</th>\n",
       "    </tr>\n",
       "  </thead>\n",
       "  <tbody>\n",
       "    <tr>\n",
       "      <th>0</th>\n",
       "      <td>1</td>\n",
       "      <td>0</td>\n",
       "      <td>3</td>\n",
       "      <td>Braund, Mr. Owen Harris</td>\n",
       "      <td>male</td>\n",
       "      <td>22.0</td>\n",
       "      <td>1</td>\n",
       "      <td>0</td>\n",
       "      <td>A/5 21171</td>\n",
       "      <td>7.2500</td>\n",
       "      <td>NaN</td>\n",
       "      <td>S</td>\n",
       "    </tr>\n",
       "    <tr>\n",
       "      <th>1</th>\n",
       "      <td>2</td>\n",
       "      <td>1</td>\n",
       "      <td>1</td>\n",
       "      <td>Cumings, Mrs. John Bradley (Florence Briggs Th...</td>\n",
       "      <td>female</td>\n",
       "      <td>38.0</td>\n",
       "      <td>1</td>\n",
       "      <td>0</td>\n",
       "      <td>PC 17599</td>\n",
       "      <td>71.2833</td>\n",
       "      <td>C85</td>\n",
       "      <td>C</td>\n",
       "    </tr>\n",
       "    <tr>\n",
       "      <th>2</th>\n",
       "      <td>3</td>\n",
       "      <td>1</td>\n",
       "      <td>3</td>\n",
       "      <td>Heikkinen, Miss. Laina</td>\n",
       "      <td>female</td>\n",
       "      <td>26.0</td>\n",
       "      <td>0</td>\n",
       "      <td>0</td>\n",
       "      <td>STON/O2. 3101282</td>\n",
       "      <td>7.9250</td>\n",
       "      <td>NaN</td>\n",
       "      <td>S</td>\n",
       "    </tr>\n",
       "    <tr>\n",
       "      <th>3</th>\n",
       "      <td>4</td>\n",
       "      <td>1</td>\n",
       "      <td>1</td>\n",
       "      <td>Futrelle, Mrs. Jacques Heath (Lily May Peel)</td>\n",
       "      <td>female</td>\n",
       "      <td>35.0</td>\n",
       "      <td>1</td>\n",
       "      <td>0</td>\n",
       "      <td>113803</td>\n",
       "      <td>53.1000</td>\n",
       "      <td>C123</td>\n",
       "      <td>S</td>\n",
       "    </tr>\n",
       "    <tr>\n",
       "      <th>4</th>\n",
       "      <td>5</td>\n",
       "      <td>0</td>\n",
       "      <td>3</td>\n",
       "      <td>Allen, Mr. William Henry</td>\n",
       "      <td>male</td>\n",
       "      <td>35.0</td>\n",
       "      <td>0</td>\n",
       "      <td>0</td>\n",
       "      <td>373450</td>\n",
       "      <td>8.0500</td>\n",
       "      <td>NaN</td>\n",
       "      <td>S</td>\n",
       "    </tr>\n",
       "    <tr>\n",
       "      <th>...</th>\n",
       "      <td>...</td>\n",
       "      <td>...</td>\n",
       "      <td>...</td>\n",
       "      <td>...</td>\n",
       "      <td>...</td>\n",
       "      <td>...</td>\n",
       "      <td>...</td>\n",
       "      <td>...</td>\n",
       "      <td>...</td>\n",
       "      <td>...</td>\n",
       "      <td>...</td>\n",
       "      <td>...</td>\n",
       "    </tr>\n",
       "    <tr>\n",
       "      <th>886</th>\n",
       "      <td>887</td>\n",
       "      <td>0</td>\n",
       "      <td>2</td>\n",
       "      <td>Montvila, Rev. Juozas</td>\n",
       "      <td>male</td>\n",
       "      <td>27.0</td>\n",
       "      <td>0</td>\n",
       "      <td>0</td>\n",
       "      <td>211536</td>\n",
       "      <td>13.0000</td>\n",
       "      <td>NaN</td>\n",
       "      <td>S</td>\n",
       "    </tr>\n",
       "    <tr>\n",
       "      <th>887</th>\n",
       "      <td>888</td>\n",
       "      <td>1</td>\n",
       "      <td>1</td>\n",
       "      <td>Graham, Miss. Margaret Edith</td>\n",
       "      <td>female</td>\n",
       "      <td>19.0</td>\n",
       "      <td>0</td>\n",
       "      <td>0</td>\n",
       "      <td>112053</td>\n",
       "      <td>30.0000</td>\n",
       "      <td>B42</td>\n",
       "      <td>S</td>\n",
       "    </tr>\n",
       "    <tr>\n",
       "      <th>888</th>\n",
       "      <td>889</td>\n",
       "      <td>0</td>\n",
       "      <td>3</td>\n",
       "      <td>Johnston, Miss. Catherine Helen \"Carrie\"</td>\n",
       "      <td>female</td>\n",
       "      <td>NaN</td>\n",
       "      <td>1</td>\n",
       "      <td>2</td>\n",
       "      <td>W./C. 6607</td>\n",
       "      <td>23.4500</td>\n",
       "      <td>NaN</td>\n",
       "      <td>S</td>\n",
       "    </tr>\n",
       "    <tr>\n",
       "      <th>889</th>\n",
       "      <td>890</td>\n",
       "      <td>1</td>\n",
       "      <td>1</td>\n",
       "      <td>Behr, Mr. Karl Howell</td>\n",
       "      <td>male</td>\n",
       "      <td>26.0</td>\n",
       "      <td>0</td>\n",
       "      <td>0</td>\n",
       "      <td>111369</td>\n",
       "      <td>30.0000</td>\n",
       "      <td>C148</td>\n",
       "      <td>C</td>\n",
       "    </tr>\n",
       "    <tr>\n",
       "      <th>890</th>\n",
       "      <td>891</td>\n",
       "      <td>0</td>\n",
       "      <td>3</td>\n",
       "      <td>Dooley, Mr. Patrick</td>\n",
       "      <td>male</td>\n",
       "      <td>32.0</td>\n",
       "      <td>0</td>\n",
       "      <td>0</td>\n",
       "      <td>370376</td>\n",
       "      <td>7.7500</td>\n",
       "      <td>NaN</td>\n",
       "      <td>Q</td>\n",
       "    </tr>\n",
       "  </tbody>\n",
       "</table>\n",
       "<p>891 rows × 12 columns</p>\n",
       "</div>"
      ],
      "text/plain": [
       "     PassengerId  Survived  Pclass  ...     Fare Cabin  Embarked\n",
       "0              1         0       3  ...   7.2500   NaN         S\n",
       "1              2         1       1  ...  71.2833   C85         C\n",
       "2              3         1       3  ...   7.9250   NaN         S\n",
       "3              4         1       1  ...  53.1000  C123         S\n",
       "4              5         0       3  ...   8.0500   NaN         S\n",
       "..           ...       ...     ...  ...      ...   ...       ...\n",
       "886          887         0       2  ...  13.0000   NaN         S\n",
       "887          888         1       1  ...  30.0000   B42         S\n",
       "888          889         0       3  ...  23.4500   NaN         S\n",
       "889          890         1       1  ...  30.0000  C148         C\n",
       "890          891         0       3  ...   7.7500   NaN         Q\n",
       "\n",
       "[891 rows x 12 columns]"
      ]
     },
     "execution_count": 382,
     "metadata": {},
     "output_type": "execute_result"
    }
   ],
   "source": [
    "data=pd.read_csv(\"/content/titanic_dataset.csv\")\n",
    "data"
   ]
  },
  {
   "cell_type": "markdown",
   "metadata": {
    "id": "OhMUAOHPcrCp"
   },
   "source": [
    "# **2. Make ‘PassengerId’ as the index column**\n"
   ]
  },
  {
   "cell_type": "code",
   "execution_count": null,
   "metadata": {
    "id": "D4-iXI0AcuGM"
   },
   "outputs": [],
   "source": [
    "data=pd.read_csv(\"/content/titanic_dataset.csv\",index_col='PassengerId')"
   ]
  },
  {
   "cell_type": "code",
   "execution_count": null,
   "metadata": {
    "colab": {
     "base_uri": "https://localhost:8080/",
     "height": 518
    },
    "id": "QJoBIG8Gc9KK",
    "outputId": "ab877a39-8f70-4fce-b088-2277ed538264"
   },
   "outputs": [
    {
     "data": {
      "text/html": [
       "<div>\n",
       "<style scoped>\n",
       "    .dataframe tbody tr th:only-of-type {\n",
       "        vertical-align: middle;\n",
       "    }\n",
       "\n",
       "    .dataframe tbody tr th {\n",
       "        vertical-align: top;\n",
       "    }\n",
       "\n",
       "    .dataframe thead th {\n",
       "        text-align: right;\n",
       "    }\n",
       "</style>\n",
       "<table border=\"1\" class=\"dataframe\">\n",
       "  <thead>\n",
       "    <tr style=\"text-align: right;\">\n",
       "      <th></th>\n",
       "      <th>Survived</th>\n",
       "      <th>Pclass</th>\n",
       "      <th>Name</th>\n",
       "      <th>Sex</th>\n",
       "      <th>Age</th>\n",
       "      <th>SibSp</th>\n",
       "      <th>Parch</th>\n",
       "      <th>Ticket</th>\n",
       "      <th>Fare</th>\n",
       "      <th>Cabin</th>\n",
       "      <th>Embarked</th>\n",
       "    </tr>\n",
       "    <tr>\n",
       "      <th>PassengerId</th>\n",
       "      <th></th>\n",
       "      <th></th>\n",
       "      <th></th>\n",
       "      <th></th>\n",
       "      <th></th>\n",
       "      <th></th>\n",
       "      <th></th>\n",
       "      <th></th>\n",
       "      <th></th>\n",
       "      <th></th>\n",
       "      <th></th>\n",
       "    </tr>\n",
       "  </thead>\n",
       "  <tbody>\n",
       "    <tr>\n",
       "      <th>1</th>\n",
       "      <td>0</td>\n",
       "      <td>3</td>\n",
       "      <td>Braund, Mr. Owen Harris</td>\n",
       "      <td>male</td>\n",
       "      <td>22.0</td>\n",
       "      <td>1</td>\n",
       "      <td>0</td>\n",
       "      <td>A/5 21171</td>\n",
       "      <td>7.2500</td>\n",
       "      <td>NaN</td>\n",
       "      <td>S</td>\n",
       "    </tr>\n",
       "    <tr>\n",
       "      <th>2</th>\n",
       "      <td>1</td>\n",
       "      <td>1</td>\n",
       "      <td>Cumings, Mrs. John Bradley (Florence Briggs Th...</td>\n",
       "      <td>female</td>\n",
       "      <td>38.0</td>\n",
       "      <td>1</td>\n",
       "      <td>0</td>\n",
       "      <td>PC 17599</td>\n",
       "      <td>71.2833</td>\n",
       "      <td>C85</td>\n",
       "      <td>C</td>\n",
       "    </tr>\n",
       "    <tr>\n",
       "      <th>3</th>\n",
       "      <td>1</td>\n",
       "      <td>3</td>\n",
       "      <td>Heikkinen, Miss. Laina</td>\n",
       "      <td>female</td>\n",
       "      <td>26.0</td>\n",
       "      <td>0</td>\n",
       "      <td>0</td>\n",
       "      <td>STON/O2. 3101282</td>\n",
       "      <td>7.9250</td>\n",
       "      <td>NaN</td>\n",
       "      <td>S</td>\n",
       "    </tr>\n",
       "    <tr>\n",
       "      <th>4</th>\n",
       "      <td>1</td>\n",
       "      <td>1</td>\n",
       "      <td>Futrelle, Mrs. Jacques Heath (Lily May Peel)</td>\n",
       "      <td>female</td>\n",
       "      <td>35.0</td>\n",
       "      <td>1</td>\n",
       "      <td>0</td>\n",
       "      <td>113803</td>\n",
       "      <td>53.1000</td>\n",
       "      <td>C123</td>\n",
       "      <td>S</td>\n",
       "    </tr>\n",
       "    <tr>\n",
       "      <th>5</th>\n",
       "      <td>0</td>\n",
       "      <td>3</td>\n",
       "      <td>Allen, Mr. William Henry</td>\n",
       "      <td>male</td>\n",
       "      <td>35.0</td>\n",
       "      <td>0</td>\n",
       "      <td>0</td>\n",
       "      <td>373450</td>\n",
       "      <td>8.0500</td>\n",
       "      <td>NaN</td>\n",
       "      <td>S</td>\n",
       "    </tr>\n",
       "    <tr>\n",
       "      <th>...</th>\n",
       "      <td>...</td>\n",
       "      <td>...</td>\n",
       "      <td>...</td>\n",
       "      <td>...</td>\n",
       "      <td>...</td>\n",
       "      <td>...</td>\n",
       "      <td>...</td>\n",
       "      <td>...</td>\n",
       "      <td>...</td>\n",
       "      <td>...</td>\n",
       "      <td>...</td>\n",
       "    </tr>\n",
       "    <tr>\n",
       "      <th>887</th>\n",
       "      <td>0</td>\n",
       "      <td>2</td>\n",
       "      <td>Montvila, Rev. Juozas</td>\n",
       "      <td>male</td>\n",
       "      <td>27.0</td>\n",
       "      <td>0</td>\n",
       "      <td>0</td>\n",
       "      <td>211536</td>\n",
       "      <td>13.0000</td>\n",
       "      <td>NaN</td>\n",
       "      <td>S</td>\n",
       "    </tr>\n",
       "    <tr>\n",
       "      <th>888</th>\n",
       "      <td>1</td>\n",
       "      <td>1</td>\n",
       "      <td>Graham, Miss. Margaret Edith</td>\n",
       "      <td>female</td>\n",
       "      <td>19.0</td>\n",
       "      <td>0</td>\n",
       "      <td>0</td>\n",
       "      <td>112053</td>\n",
       "      <td>30.0000</td>\n",
       "      <td>B42</td>\n",
       "      <td>S</td>\n",
       "    </tr>\n",
       "    <tr>\n",
       "      <th>889</th>\n",
       "      <td>0</td>\n",
       "      <td>3</td>\n",
       "      <td>Johnston, Miss. Catherine Helen \"Carrie\"</td>\n",
       "      <td>female</td>\n",
       "      <td>NaN</td>\n",
       "      <td>1</td>\n",
       "      <td>2</td>\n",
       "      <td>W./C. 6607</td>\n",
       "      <td>23.4500</td>\n",
       "      <td>NaN</td>\n",
       "      <td>S</td>\n",
       "    </tr>\n",
       "    <tr>\n",
       "      <th>890</th>\n",
       "      <td>1</td>\n",
       "      <td>1</td>\n",
       "      <td>Behr, Mr. Karl Howell</td>\n",
       "      <td>male</td>\n",
       "      <td>26.0</td>\n",
       "      <td>0</td>\n",
       "      <td>0</td>\n",
       "      <td>111369</td>\n",
       "      <td>30.0000</td>\n",
       "      <td>C148</td>\n",
       "      <td>C</td>\n",
       "    </tr>\n",
       "    <tr>\n",
       "      <th>891</th>\n",
       "      <td>0</td>\n",
       "      <td>3</td>\n",
       "      <td>Dooley, Mr. Patrick</td>\n",
       "      <td>male</td>\n",
       "      <td>32.0</td>\n",
       "      <td>0</td>\n",
       "      <td>0</td>\n",
       "      <td>370376</td>\n",
       "      <td>7.7500</td>\n",
       "      <td>NaN</td>\n",
       "      <td>Q</td>\n",
       "    </tr>\n",
       "  </tbody>\n",
       "</table>\n",
       "<p>891 rows × 11 columns</p>\n",
       "</div>"
      ],
      "text/plain": [
       "             Survived  Pclass  ... Cabin Embarked\n",
       "PassengerId                    ...               \n",
       "1                   0       3  ...   NaN        S\n",
       "2                   1       1  ...   C85        C\n",
       "3                   1       3  ...   NaN        S\n",
       "4                   1       1  ...  C123        S\n",
       "5                   0       3  ...   NaN        S\n",
       "...               ...     ...  ...   ...      ...\n",
       "887                 0       2  ...   NaN        S\n",
       "888                 1       1  ...   B42        S\n",
       "889                 0       3  ...   NaN        S\n",
       "890                 1       1  ...  C148        C\n",
       "891                 0       3  ...   NaN        Q\n",
       "\n",
       "[891 rows x 11 columns]"
      ]
     },
     "execution_count": 384,
     "metadata": {},
     "output_type": "execute_result"
    }
   ],
   "source": [
    "data"
   ]
  },
  {
   "cell_type": "markdown",
   "metadata": {
    "id": "mrHObQK2dDS6"
   },
   "source": [
    "# **3. Check the basic details of the dataset**"
   ]
  },
  {
   "cell_type": "code",
   "execution_count": null,
   "metadata": {
    "colab": {
     "base_uri": "https://localhost:8080/"
    },
    "id": "SUQSuASFdHkJ",
    "outputId": "d0fa7bcf-f7d8-45a1-ba2e-19d88ee9ea3e"
   },
   "outputs": [
    {
     "data": {
      "text/plain": [
       "(891, 11)"
      ]
     },
     "execution_count": 385,
     "metadata": {},
     "output_type": "execute_result"
    }
   ],
   "source": [
    "data.shape"
   ]
  },
  {
   "cell_type": "code",
   "execution_count": null,
   "metadata": {
    "colab": {
     "base_uri": "https://localhost:8080/"
    },
    "id": "WwNznqwSdcCh",
    "outputId": "0ed03124-885d-4341-f66e-7d5a23d27ff0"
   },
   "outputs": [
    {
     "name": "stdout",
     "output_type": "stream",
     "text": [
      "<class 'pandas.core.frame.DataFrame'>\n",
      "Int64Index: 891 entries, 1 to 891\n",
      "Data columns (total 11 columns):\n",
      " #   Column    Non-Null Count  Dtype  \n",
      "---  ------    --------------  -----  \n",
      " 0   Survived  891 non-null    int64  \n",
      " 1   Pclass    891 non-null    int64  \n",
      " 2   Name      891 non-null    object \n",
      " 3   Sex       891 non-null    object \n",
      " 4   Age       714 non-null    float64\n",
      " 5   SibSp     891 non-null    int64  \n",
      " 6   Parch     891 non-null    int64  \n",
      " 7   Ticket    891 non-null    object \n",
      " 8   Fare      891 non-null    float64\n",
      " 9   Cabin     204 non-null    object \n",
      " 10  Embarked  889 non-null    object \n",
      "dtypes: float64(2), int64(4), object(5)\n",
      "memory usage: 83.5+ KB\n"
     ]
    }
   ],
   "source": [
    "data.info()"
   ]
  },
  {
   "cell_type": "code",
   "execution_count": null,
   "metadata": {
    "colab": {
     "base_uri": "https://localhost:8080/",
     "height": 297
    },
    "id": "UVRKG8900YIl",
    "outputId": "47c2dc55-ed3c-403a-e579-d7cac4b4ad86"
   },
   "outputs": [
    {
     "data": {
      "text/html": [
       "<div>\n",
       "<style scoped>\n",
       "    .dataframe tbody tr th:only-of-type {\n",
       "        vertical-align: middle;\n",
       "    }\n",
       "\n",
       "    .dataframe tbody tr th {\n",
       "        vertical-align: top;\n",
       "    }\n",
       "\n",
       "    .dataframe thead th {\n",
       "        text-align: right;\n",
       "    }\n",
       "</style>\n",
       "<table border=\"1\" class=\"dataframe\">\n",
       "  <thead>\n",
       "    <tr style=\"text-align: right;\">\n",
       "      <th></th>\n",
       "      <th>Survived</th>\n",
       "      <th>Pclass</th>\n",
       "      <th>Age</th>\n",
       "      <th>SibSp</th>\n",
       "      <th>Parch</th>\n",
       "      <th>Fare</th>\n",
       "    </tr>\n",
       "  </thead>\n",
       "  <tbody>\n",
       "    <tr>\n",
       "      <th>count</th>\n",
       "      <td>891.000000</td>\n",
       "      <td>891.000000</td>\n",
       "      <td>714.000000</td>\n",
       "      <td>891.000000</td>\n",
       "      <td>891.000000</td>\n",
       "      <td>891.000000</td>\n",
       "    </tr>\n",
       "    <tr>\n",
       "      <th>mean</th>\n",
       "      <td>0.383838</td>\n",
       "      <td>2.308642</td>\n",
       "      <td>29.699118</td>\n",
       "      <td>0.523008</td>\n",
       "      <td>0.381594</td>\n",
       "      <td>32.204208</td>\n",
       "    </tr>\n",
       "    <tr>\n",
       "      <th>std</th>\n",
       "      <td>0.486592</td>\n",
       "      <td>0.836071</td>\n",
       "      <td>14.526497</td>\n",
       "      <td>1.102743</td>\n",
       "      <td>0.806057</td>\n",
       "      <td>49.693429</td>\n",
       "    </tr>\n",
       "    <tr>\n",
       "      <th>min</th>\n",
       "      <td>0.000000</td>\n",
       "      <td>1.000000</td>\n",
       "      <td>0.420000</td>\n",
       "      <td>0.000000</td>\n",
       "      <td>0.000000</td>\n",
       "      <td>0.000000</td>\n",
       "    </tr>\n",
       "    <tr>\n",
       "      <th>25%</th>\n",
       "      <td>0.000000</td>\n",
       "      <td>2.000000</td>\n",
       "      <td>20.125000</td>\n",
       "      <td>0.000000</td>\n",
       "      <td>0.000000</td>\n",
       "      <td>7.910400</td>\n",
       "    </tr>\n",
       "    <tr>\n",
       "      <th>50%</th>\n",
       "      <td>0.000000</td>\n",
       "      <td>3.000000</td>\n",
       "      <td>28.000000</td>\n",
       "      <td>0.000000</td>\n",
       "      <td>0.000000</td>\n",
       "      <td>14.454200</td>\n",
       "    </tr>\n",
       "    <tr>\n",
       "      <th>75%</th>\n",
       "      <td>1.000000</td>\n",
       "      <td>3.000000</td>\n",
       "      <td>38.000000</td>\n",
       "      <td>1.000000</td>\n",
       "      <td>0.000000</td>\n",
       "      <td>31.000000</td>\n",
       "    </tr>\n",
       "    <tr>\n",
       "      <th>max</th>\n",
       "      <td>1.000000</td>\n",
       "      <td>3.000000</td>\n",
       "      <td>80.000000</td>\n",
       "      <td>8.000000</td>\n",
       "      <td>6.000000</td>\n",
       "      <td>512.329200</td>\n",
       "    </tr>\n",
       "  </tbody>\n",
       "</table>\n",
       "</div>"
      ],
      "text/plain": [
       "         Survived      Pclass         Age       SibSp       Parch        Fare\n",
       "count  891.000000  891.000000  714.000000  891.000000  891.000000  891.000000\n",
       "mean     0.383838    2.308642   29.699118    0.523008    0.381594   32.204208\n",
       "std      0.486592    0.836071   14.526497    1.102743    0.806057   49.693429\n",
       "min      0.000000    1.000000    0.420000    0.000000    0.000000    0.000000\n",
       "25%      0.000000    2.000000   20.125000    0.000000    0.000000    7.910400\n",
       "50%      0.000000    3.000000   28.000000    0.000000    0.000000   14.454200\n",
       "75%      1.000000    3.000000   38.000000    1.000000    0.000000   31.000000\n",
       "max      1.000000    3.000000   80.000000    8.000000    6.000000  512.329200"
      ]
     },
     "execution_count": 387,
     "metadata": {},
     "output_type": "execute_result"
    }
   ],
   "source": [
    "data.describe()"
   ]
  },
  {
   "cell_type": "code",
   "execution_count": null,
   "metadata": {
    "colab": {
     "base_uri": "https://localhost:8080/"
    },
    "id": "Jl54QxQldiiW",
    "outputId": "d61267d6-8477-478b-911d-be05ce972706"
   },
   "outputs": [
    {
     "data": {
      "text/plain": [
       "Survived      0\n",
       "Pclass        0\n",
       "Name          0\n",
       "Sex           0\n",
       "Age         177\n",
       "SibSp         0\n",
       "Parch         0\n",
       "Ticket        0\n",
       "Fare          0\n",
       "Cabin       687\n",
       "Embarked      2\n",
       "dtype: int64"
      ]
     },
     "execution_count": 388,
     "metadata": {},
     "output_type": "execute_result"
    }
   ],
   "source": [
    "data.isnull().sum()"
   ]
  },
  {
   "cell_type": "markdown",
   "metadata": {
    "id": "oNXeoljvePHm"
   },
   "source": [
    "# **4. Fill in all the missing values present in all the columns in the dataset**"
   ]
  },
  {
   "cell_type": "code",
   "execution_count": null,
   "metadata": {
    "colab": {
     "base_uri": "https://localhost:8080/"
    },
    "id": "0TpuOj51eRmL",
    "outputId": "83bc2a99-08c9-4ff5-c6e3-5dac55c7d76b"
   },
   "outputs": [
    {
     "data": {
      "text/plain": [
       "Survived      int64\n",
       "Pclass        int64\n",
       "Name         object\n",
       "Sex          object\n",
       "Age         float64\n",
       "SibSp         int64\n",
       "Parch         int64\n",
       "Ticket       object\n",
       "Fare        float64\n",
       "Cabin        object\n",
       "Embarked     object\n",
       "dtype: object"
      ]
     },
     "execution_count": 389,
     "metadata": {},
     "output_type": "execute_result"
    }
   ],
   "source": [
    "data.dtypes"
   ]
  },
  {
   "cell_type": "code",
   "execution_count": null,
   "metadata": {
    "colab": {
     "base_uri": "https://localhost:8080/",
     "height": 707
    },
    "id": "twqI3Ej3fR4I",
    "outputId": "468c1675-097c-4929-a1e2-ebca1bf261d8"
   },
   "outputs": [
    {
     "data": {
      "image/png": "[encoded data removed]",
      "text/plain": [
       "<Figure size 1440x1080 with 1 Axes>"
      ]
     },
     "metadata": {
      "needs_background": "light"
     },
     "output_type": "display_data"
    }
   ],
   "source": [
    "freqgraph=data.Age\n",
    "freqgraph.hist(figsize=(20,15))\n",
    "plt.show()"
   ]
  },
  {
   "cell_type": "code",
   "execution_count": null,
   "metadata": {
    "colab": {
     "base_uri": "https://localhost:8080/"
    },
    "id": "tlaP88pBgxv6",
    "outputId": "a1007f05-eba9-4c6a-d279-78721b46dad6"
   },
   "outputs": [
    {
     "data": {
      "text/plain": [
       "Index(['Survived', 'Pclass', 'Name', 'Sex', 'Age', 'SibSp', 'Parch', 'Ticket',\n",
       "       'Fare', 'Cabin', 'Embarked'],\n",
       "      dtype='object')"
      ]
     },
     "execution_count": 391,
     "metadata": {},
     "output_type": "execute_result"
    }
   ],
   "source": [
    "data.columns"
   ]
  },
  {
   "cell_type": "code",
   "execution_count": null,
   "metadata": {
    "id": "9PgYS9zag4ZE"
   },
   "outputs": [],
   "source": [
    "data['Age']=data['Age'].fillna(data['Age'].median())"
   ]
  },
  {
   "cell_type": "code",
   "execution_count": null,
   "metadata": {
    "id": "bfEMk99L2apu"
   },
   "outputs": [],
   "source": [
    "data.drop('Cabin',axis=1,inplace=True)\n",
    "data.dropna(inplace=True)"
   ]
  },
  {
   "cell_type": "code",
   "execution_count": null,
   "metadata": {
    "id": "ZdRKNvXS3Apd"
   },
   "outputs": [],
   "source": [
    "data.Embarked = data.Embarked.fillna('NA')"
   ]
  },
  {
   "cell_type": "code",
   "execution_count": null,
   "metadata": {
    "colab": {
     "base_uri": "https://localhost:8080/"
    },
    "id": "ZzfA8bnx2KZw",
    "outputId": "9dfd47fa-ce58-401d-b0d7-f8b04671555f"
   },
   "outputs": [
    {
     "data": {
      "text/plain": [
       "Survived    0\n",
       "Pclass      0\n",
       "Name        0\n",
       "Sex         0\n",
       "Age         0\n",
       "SibSp       0\n",
       "Parch       0\n",
       "Ticket      0\n",
       "Fare        0\n",
       "Embarked    0\n",
       "dtype: int64"
      ]
     },
     "execution_count": 395,
     "metadata": {},
     "output_type": "execute_result"
    }
   ],
   "source": [
    "data.isnull().sum()"
   ]
  },
  {
   "cell_type": "markdown",
   "metadata": {
    "id": "5pRd8jzJhqMB"
   },
   "source": [
    "# **5. Check and handle outliers in at least 3 columns in the dataset**"
   ]
  },
  {
   "cell_type": "markdown",
   "metadata": {
    "id": "YtdMa5ZXp19Y"
   },
   "source": [
    "**a.Age Column**"
   ]
  },
  {
   "cell_type": "code",
   "execution_count": null,
   "metadata": {
    "colab": {
     "base_uri": "https://localhost:8080/",
     "height": 298
    },
    "id": "YUblx2Ijhsw0",
    "outputId": "104c4717-98f9-454f-84ec-81e81e1c48ad"
   },
   "outputs": [
    {
     "data": {
      "text/plain": [
       "Text(0.5, 1.0, 'Box plot of Age')"
      ]
     },
     "execution_count": 396,
     "metadata": {},
     "output_type": "execute_result"
    },
    {
     "data": {
      "image/png": "[encoded data removed]",
      "text/plain": [
       "<Figure size 432x288 with 1 Axes>"
      ]
     },
     "metadata": {
      "needs_background": "light"
     },
     "output_type": "display_data"
    }
   ],
   "source": [
    "plt.boxplot(data['Age'])\n",
    "plt.title(\"Box plot of Age\")"
   ]
  },
  {
   "cell_type": "code",
   "execution_count": null,
   "metadata": {
    "id": "yTYNKfkimQXy"
   },
   "outputs": [],
   "source": [
    "Q1 = np.percentile(data['Age'], 25, interpolation='midpoint')\n",
    "Q2 = np.percentile(data['Age'], 50, interpolation='midpoint')\n",
    "Q3 = np.percentile(data['Age'], 75, interpolation='midpoint')\n",
    "IQR=Q3-Q1\n",
    "low_lim=Q1-1.5*IQR\n",
    "Up_lim=Q3+1.5*IQR"
   ]
  },
  {
   "cell_type": "code",
   "execution_count": null,
   "metadata": {
    "id": "6NfbBplOnuCe"
   },
   "outputs": [],
   "source": [
    "outlier = []\n",
    "for x in data['Age']:\n",
    "    if((x>Up_lim) or (x<low_lim)):\n",
    "        outlier.append(x)"
   ]
  },
  {
   "cell_type": "code",
   "execution_count": null,
   "metadata": {
    "colab": {
     "base_uri": "https://localhost:8080/"
    },
    "id": "NVvycDoHomfc",
    "outputId": "9a1512a3-7cee-4ab7-a32c-f1205ba84fd1"
   },
   "outputs": [
    {
     "data": {
      "text/plain": [
       "[2.0,\n",
       " 58.0,\n",
       " 55.0,\n",
       " 2.0,\n",
       " 66.0,\n",
       " 65.0,\n",
       " 0.83,\n",
       " 59.0,\n",
       " 71.0,\n",
       " 70.5,\n",
       " 2.0,\n",
       " 55.5,\n",
       " 1.0,\n",
       " 61.0,\n",
       " 1.0,\n",
       " 56.0,\n",
       " 1.0,\n",
       " 58.0,\n",
       " 2.0,\n",
       " 59.0,\n",
       " 62.0,\n",
       " 58.0,\n",
       " 63.0,\n",
       " 65.0,\n",
       " 2.0,\n",
       " 0.92,\n",
       " 61.0,\n",
       " 2.0,\n",
       " 60.0,\n",
       " 1.0,\n",
       " 1.0,\n",
       " 64.0,\n",
       " 65.0,\n",
       " 56.0,\n",
       " 0.75,\n",
       " 2.0,\n",
       " 63.0,\n",
       " 58.0,\n",
       " 55.0,\n",
       " 71.0,\n",
       " 2.0,\n",
       " 64.0,\n",
       " 62.0,\n",
       " 62.0,\n",
       " 60.0,\n",
       " 61.0,\n",
       " 57.0,\n",
       " 80.0,\n",
       " 2.0,\n",
       " 0.75,\n",
       " 56.0,\n",
       " 58.0,\n",
       " 70.0,\n",
       " 60.0,\n",
       " 60.0,\n",
       " 70.0,\n",
       " 0.67,\n",
       " 57.0,\n",
       " 1.0,\n",
       " 0.42,\n",
       " 2.0,\n",
       " 1.0,\n",
       " 0.83,\n",
       " 74.0,\n",
       " 56.0]"
      ]
     },
     "execution_count": 399,
     "metadata": {},
     "output_type": "execute_result"
    }
   ],
   "source": [
    "outlier"
   ]
  },
  {
   "cell_type": "code",
   "execution_count": null,
   "metadata": {
    "colab": {
     "base_uri": "https://localhost:8080/"
    },
    "id": "6mllYQDgosAd",
    "outputId": "1337bbb6-3fc3-41c9-cc71-f4a39fafd695"
   },
   "outputs": [
    {
     "data": {
      "text/plain": [
       "Int64Index([ 12,  16,  34,  55,  95,  97, 117, 153, 171, 175, 196, 233, 253,\n",
       "            269, 276, 281, 327, 367, 439, 457, 468, 484, 488, 493, 494, 546,\n",
       "            556, 571, 588, 626, 627, 631, 648, 660, 673, 685, 695, 746, 773,\n",
       "            852, 880],\n",
       "           dtype='int64', name='PassengerId')"
      ]
     },
     "execution_count": 400,
     "metadata": {},
     "output_type": "execute_result"
    }
   ],
   "source": [
    "ind1=data['Age']>Up_lim\n",
    "data.loc[ind1].index"
   ]
  },
  {
   "cell_type": "code",
   "execution_count": null,
   "metadata": {
    "id": "m7QfVHpro6l5"
   },
   "outputs": [],
   "source": [
    "data.drop([ 12,  16,  34,  55,  95,  97, 117, 153, 171, 175, 196, 233, 253,\n",
    "            269, 276, 281, 327, 367, 439, 457, 468, 484, 488, 493, 494, 546,\n",
    "            556, 571, 588, 626, 627, 631, 648, 660, 673, 685, 695, 746, 773,\n",
    "            852, 880],inplace=True)"
   ]
  },
  {
   "cell_type": "code",
   "execution_count": null,
   "metadata": {
    "colab": {
     "base_uri": "https://localhost:8080/",
     "height": 298
    },
    "id": "UcvdY3dZpmk3",
    "outputId": "24ab12a5-7b74-42b1-c18e-cdffcb250e34"
   },
   "outputs": [
    {
     "data": {
      "text/plain": [
       "Text(0.5, 1.0, 'Box plot of Age')"
      ]
     },
     "execution_count": 402,
     "metadata": {},
     "output_type": "execute_result"
    },
    {
     "data": {
      "image/png": "[encoded data removed]",
      "text/plain": [
       "<Figure size 432x288 with 1 Axes>"
      ]
     },
     "metadata": {
      "needs_background": "light"
     },
     "output_type": "display_data"
    }
   ],
   "source": [
    "plt.boxplot(data['Age'])\n",
    "plt.title(\"Box plot of Age\")"
   ]
  },
  {
   "cell_type": "markdown",
   "metadata": {
    "id": "GaiwaVjgp6gk"
   },
   "source": [
    "**b.SibSp column**"
   ]
  },
  {
   "cell_type": "code",
   "execution_count": null,
   "metadata": {
    "colab": {
     "base_uri": "https://localhost:8080/",
     "height": 298
    },
    "id": "7VqHBwXakQLo",
    "outputId": "39a5f9e0-53b0-4e99-9eba-724dcbf836f4"
   },
   "outputs": [
    {
     "data": {
      "text/plain": [
       "Text(0.5, 1.0, 'Box plot of SibSp')"
      ]
     },
     "execution_count": 403,
     "metadata": {},
     "output_type": "execute_result"
    },
    {
     "data": {
      "image/png": "[encoded data removed]",
      "text/plain": [
       "<Figure size 432x288 with 1 Axes>"
      ]
     },
     "metadata": {
      "needs_background": "light"
     },
     "output_type": "display_data"
    }
   ],
   "source": [
    "plt.boxplot(data['SibSp'])\n",
    "plt.title(\"Box plot of SibSp\")"
   ]
  },
  {
   "cell_type": "code",
   "execution_count": null,
   "metadata": {
    "id": "0CJqPsJAqCF4"
   },
   "outputs": [],
   "source": [
    "Q1 = np.percentile(data['SibSp'], 25, interpolation='midpoint')\n",
    "Q2 = np.percentile(data['SibSp'], 50, interpolation='midpoint')\n",
    "Q3 = np.percentile(data['SibSp'], 75, interpolation='midpoint')\n",
    "IQR=Q3-Q1\n",
    "low_lim=Q1-1.5*IQR\n",
    "Up_lim=Q3+1.5*IQR"
   ]
  },
  {
   "cell_type": "code",
   "execution_count": null,
   "metadata": {
    "id": "-3vQIJY4qOfI"
   },
   "outputs": [],
   "source": [
    "outlier = []\n",
    "for x in data['Age']:\n",
    "    if((x>Up_lim) or (x<low_lim)):\n",
    "        outlier.append(x)"
   ]
  },
  {
   "cell_type": "code",
   "execution_count": null,
   "metadata": {
    "colab": {
     "base_uri": "https://localhost:8080/"
    },
    "id": "VIAqISvjqPYp",
    "outputId": "bf311f5e-9f14-4eb8-bcb1-c237265b023e"
   },
   "outputs": [
    {
     "data": {
      "text/plain": [
       "[22.0,\n",
       " 38.0,\n",
       " 26.0,\n",
       " 35.0,\n",
       " 35.0,\n",
       " 28.0,\n",
       " 54.0,\n",
       " 27.0,\n",
       " 14.0,\n",
       " 4.0,\n",
       " 20.0,\n",
       " 39.0,\n",
       " 14.0,\n",
       " 28.0,\n",
       " 31.0,\n",
       " 28.0,\n",
       " 35.0,\n",
       " 34.0,\n",
       " 15.0,\n",
       " 28.0,\n",
       " 8.0,\n",
       " 38.0,\n",
       " 28.0,\n",
       " 19.0,\n",
       " 28.0,\n",
       " 28.0,\n",
       " 40.0,\n",
       " 28.0,\n",
       " 28.0,\n",
       " 28.0,\n",
       " 42.0,\n",
       " 28.0,\n",
       " 21.0,\n",
       " 18.0,\n",
       " 14.0,\n",
       " 40.0,\n",
       " 27.0,\n",
       " 28.0,\n",
       " 3.0,\n",
       " 19.0,\n",
       " 28.0,\n",
       " 28.0,\n",
       " 28.0,\n",
       " 28.0,\n",
       " 18.0,\n",
       " 7.0,\n",
       " 21.0,\n",
       " 49.0,\n",
       " 29.0,\n",
       " 28.0,\n",
       " 21.0,\n",
       " 28.5,\n",
       " 5.0,\n",
       " 11.0,\n",
       " 22.0,\n",
       " 45.0,\n",
       " 4.0,\n",
       " 28.0,\n",
       " 28.0,\n",
       " 29.0,\n",
       " 19.0,\n",
       " 17.0,\n",
       " 26.0,\n",
       " 32.0,\n",
       " 16.0,\n",
       " 21.0,\n",
       " 26.0,\n",
       " 32.0,\n",
       " 25.0,\n",
       " 28.0,\n",
       " 28.0,\n",
       " 30.0,\n",
       " 22.0,\n",
       " 29.0,\n",
       " 28.0,\n",
       " 28.0,\n",
       " 17.0,\n",
       " 33.0,\n",
       " 16.0,\n",
       " 28.0,\n",
       " 23.0,\n",
       " 24.0,\n",
       " 29.0,\n",
       " 20.0,\n",
       " 46.0,\n",
       " 26.0,\n",
       " 28.0,\n",
       " 23.0,\n",
       " 34.0,\n",
       " 34.0,\n",
       " 28.0,\n",
       " 28.0,\n",
       " 21.0,\n",
       " 33.0,\n",
       " 37.0,\n",
       " 28.0,\n",
       " 21.0,\n",
       " 28.0,\n",
       " 38.0,\n",
       " 28.0,\n",
       " 47.0,\n",
       " 14.5,\n",
       " 22.0,\n",
       " 20.0,\n",
       " 17.0,\n",
       " 21.0,\n",
       " 29.0,\n",
       " 24.0,\n",
       " 21.0,\n",
       " 28.0,\n",
       " 32.5,\n",
       " 32.5,\n",
       " 54.0,\n",
       " 12.0,\n",
       " 28.0,\n",
       " 24.0,\n",
       " 28.0,\n",
       " 45.0,\n",
       " 33.0,\n",
       " 20.0,\n",
       " 47.0,\n",
       " 29.0,\n",
       " 25.0,\n",
       " 23.0,\n",
       " 19.0,\n",
       " 37.0,\n",
       " 16.0,\n",
       " 24.0,\n",
       " 28.0,\n",
       " 22.0,\n",
       " 24.0,\n",
       " 19.0,\n",
       " 18.0,\n",
       " 19.0,\n",
       " 27.0,\n",
       " 9.0,\n",
       " 36.5,\n",
       " 42.0,\n",
       " 51.0,\n",
       " 22.0,\n",
       " 40.5,\n",
       " 28.0,\n",
       " 51.0,\n",
       " 16.0,\n",
       " 30.0,\n",
       " 28.0,\n",
       " 28.0,\n",
       " 44.0,\n",
       " 40.0,\n",
       " 26.0,\n",
       " 17.0,\n",
       " 9.0,\n",
       " 28.0,\n",
       " 45.0,\n",
       " 28.0,\n",
       " 28.0,\n",
       " 4.0,\n",
       " 21.0,\n",
       " 18.0,\n",
       " 28.0,\n",
       " 50.0,\n",
       " 30.0,\n",
       " 36.0,\n",
       " 28.0,\n",
       " 28.0,\n",
       " 9.0,\n",
       " 4.0,\n",
       " 28.0,\n",
       " 28.0,\n",
       " 45.0,\n",
       " 40.0,\n",
       " 36.0,\n",
       " 32.0,\n",
       " 19.0,\n",
       " 19.0,\n",
       " 3.0,\n",
       " 44.0,\n",
       " 28.0,\n",
       " 42.0,\n",
       " 28.0,\n",
       " 24.0,\n",
       " 28.0,\n",
       " 28.0,\n",
       " 34.0,\n",
       " 45.5,\n",
       " 18.0,\n",
       " 32.0,\n",
       " 26.0,\n",
       " 16.0,\n",
       " 40.0,\n",
       " 24.0,\n",
       " 35.0,\n",
       " 22.0,\n",
       " 30.0,\n",
       " 28.0,\n",
       " 31.0,\n",
       " 27.0,\n",
       " 42.0,\n",
       " 32.0,\n",
       " 30.0,\n",
       " 16.0,\n",
       " 27.0,\n",
       " 51.0,\n",
       " 28.0,\n",
       " 38.0,\n",
       " 22.0,\n",
       " 19.0,\n",
       " 20.5,\n",
       " 18.0,\n",
       " 28.0,\n",
       " 35.0,\n",
       " 29.0,\n",
       " 5.0,\n",
       " 24.0,\n",
       " 28.0,\n",
       " 44.0,\n",
       " 8.0,\n",
       " 19.0,\n",
       " 33.0,\n",
       " 28.0,\n",
       " 28.0,\n",
       " 29.0,\n",
       " 22.0,\n",
       " 30.0,\n",
       " 44.0,\n",
       " 25.0,\n",
       " 24.0,\n",
       " 37.0,\n",
       " 54.0,\n",
       " 28.0,\n",
       " 29.0,\n",
       " 30.0,\n",
       " 41.0,\n",
       " 29.0,\n",
       " 28.0,\n",
       " 30.0,\n",
       " 35.0,\n",
       " 50.0,\n",
       " 28.0,\n",
       " 3.0,\n",
       " 52.0,\n",
       " 40.0,\n",
       " 28.0,\n",
       " 36.0,\n",
       " 16.0,\n",
       " 25.0,\n",
       " 35.0,\n",
       " 28.0,\n",
       " 25.0,\n",
       " 41.0,\n",
       " 37.0,\n",
       " 28.0,\n",
       " 45.0,\n",
       " 28.0,\n",
       " 7.0,\n",
       " 35.0,\n",
       " 28.0,\n",
       " 16.0,\n",
       " 19.0,\n",
       " 28.0,\n",
       " 33.0,\n",
       " 30.0,\n",
       " 22.0,\n",
       " 42.0,\n",
       " 22.0,\n",
       " 26.0,\n",
       " 19.0,\n",
       " 36.0,\n",
       " 24.0,\n",
       " 24.0,\n",
       " 28.0,\n",
       " 23.5,\n",
       " 28.0,\n",
       " 50.0,\n",
       " 28.0,\n",
       " 28.0,\n",
       " 19.0,\n",
       " 28.0,\n",
       " 28.0,\n",
       " 28.0,\n",
       " 17.0,\n",
       " 30.0,\n",
       " 30.0,\n",
       " 24.0,\n",
       " 18.0,\n",
       " 26.0,\n",
       " 28.0,\n",
       " 43.0,\n",
       " 26.0,\n",
       " 24.0,\n",
       " 54.0,\n",
       " 31.0,\n",
       " 40.0,\n",
       " 22.0,\n",
       " 27.0,\n",
       " 30.0,\n",
       " 22.0,\n",
       " 28.0,\n",
       " 36.0,\n",
       " 36.0,\n",
       " 31.0,\n",
       " 16.0,\n",
       " 28.0,\n",
       " 45.5,\n",
       " 38.0,\n",
       " 16.0,\n",
       " 28.0,\n",
       " 28.0,\n",
       " 29.0,\n",
       " 41.0,\n",
       " 45.0,\n",
       " 45.0,\n",
       " 24.0,\n",
       " 28.0,\n",
       " 25.0,\n",
       " 36.0,\n",
       " 24.0,\n",
       " 40.0,\n",
       " 28.0,\n",
       " 3.0,\n",
       " 42.0,\n",
       " 23.0,\n",
       " 28.0,\n",
       " 15.0,\n",
       " 25.0,\n",
       " 28.0,\n",
       " 28.0,\n",
       " 22.0,\n",
       " 38.0,\n",
       " 28.0,\n",
       " 28.0,\n",
       " 40.0,\n",
       " 29.0,\n",
       " 45.0,\n",
       " 35.0,\n",
       " 28.0,\n",
       " 30.0,\n",
       " 28.0,\n",
       " 28.0,\n",
       " 24.0,\n",
       " 25.0,\n",
       " 18.0,\n",
       " 19.0,\n",
       " 22.0,\n",
       " 3.0,\n",
       " 28.0,\n",
       " 22.0,\n",
       " 27.0,\n",
       " 20.0,\n",
       " 19.0,\n",
       " 42.0,\n",
       " 32.0,\n",
       " 35.0,\n",
       " 28.0,\n",
       " 18.0,\n",
       " 36.0,\n",
       " 28.0,\n",
       " 17.0,\n",
       " 36.0,\n",
       " 21.0,\n",
       " 28.0,\n",
       " 23.0,\n",
       " 24.0,\n",
       " 22.0,\n",
       " 31.0,\n",
       " 46.0,\n",
       " 23.0,\n",
       " 28.0,\n",
       " 39.0,\n",
       " 26.0,\n",
       " 21.0,\n",
       " 28.0,\n",
       " 20.0,\n",
       " 34.0,\n",
       " 51.0,\n",
       " 3.0,\n",
       " 21.0,\n",
       " 28.0,\n",
       " 28.0,\n",
       " 28.0,\n",
       " 33.0,\n",
       " 28.0,\n",
       " 44.0,\n",
       " 28.0,\n",
       " 34.0,\n",
       " 18.0,\n",
       " 30.0,\n",
       " 10.0,\n",
       " 28.0,\n",
       " 21.0,\n",
       " 29.0,\n",
       " 28.0,\n",
       " 18.0,\n",
       " 28.0,\n",
       " 28.0,\n",
       " 19.0,\n",
       " 28.0,\n",
       " 32.0,\n",
       " 28.0,\n",
       " 28.0,\n",
       " 42.0,\n",
       " 17.0,\n",
       " 50.0,\n",
       " 14.0,\n",
       " 21.0,\n",
       " 24.0,\n",
       " 31.0,\n",
       " 45.0,\n",
       " 20.0,\n",
       " 25.0,\n",
       " 28.0,\n",
       " 28.0,\n",
       " 4.0,\n",
       " 13.0,\n",
       " 34.0,\n",
       " 5.0,\n",
       " 52.0,\n",
       " 36.0,\n",
       " 28.0,\n",
       " 30.0,\n",
       " 49.0,\n",
       " 28.0,\n",
       " 29.0,\n",
       " 28.0,\n",
       " 50.0,\n",
       " 28.0,\n",
       " 48.0,\n",
       " 34.0,\n",
       " 47.0,\n",
       " 48.0,\n",
       " 28.0,\n",
       " 38.0,\n",
       " 28.0,\n",
       " 28.0,\n",
       " 28.0,\n",
       " 38.0,\n",
       " 33.0,\n",
       " 23.0,\n",
       " 22.0,\n",
       " 28.0,\n",
       " 34.0,\n",
       " 29.0,\n",
       " 22.0,\n",
       " 9.0,\n",
       " 28.0,\n",
       " 50.0,\n",
       " 25.0,\n",
       " 28.0,\n",
       " 35.0,\n",
       " 30.0,\n",
       " 9.0,\n",
       " 28.0,\n",
       " 21.0,\n",
       " 21.0,\n",
       " 28.0,\n",
       " 54.0,\n",
       " 28.0,\n",
       " 25.0,\n",
       " 24.0,\n",
       " 17.0,\n",
       " 21.0,\n",
       " 28.0,\n",
       " 37.0,\n",
       " 16.0,\n",
       " 18.0,\n",
       " 33.0,\n",
       " 28.0,\n",
       " 28.0,\n",
       " 26.0,\n",
       " 29.0,\n",
       " 28.0,\n",
       " 36.0,\n",
       " 54.0,\n",
       " 24.0,\n",
       " 47.0,\n",
       " 34.0,\n",
       " 28.0,\n",
       " 36.0,\n",
       " 32.0,\n",
       " 30.0,\n",
       " 22.0,\n",
       " 28.0,\n",
       " 44.0,\n",
       " 28.0,\n",
       " 40.5,\n",
       " 50.0,\n",
       " 28.0,\n",
       " 39.0,\n",
       " 23.0,\n",
       " 28.0,\n",
       " 17.0,\n",
       " 28.0,\n",
       " 30.0,\n",
       " 7.0,\n",
       " 45.0,\n",
       " 30.0,\n",
       " 28.0,\n",
       " 22.0,\n",
       " 36.0,\n",
       " 9.0,\n",
       " 11.0,\n",
       " 32.0,\n",
       " 50.0,\n",
       " 19.0,\n",
       " 28.0,\n",
       " 33.0,\n",
       " 8.0,\n",
       " 17.0,\n",
       " 27.0,\n",
       " 28.0,\n",
       " 22.0,\n",
       " 22.0,\n",
       " 48.0,\n",
       " 28.0,\n",
       " 39.0,\n",
       " 36.0,\n",
       " 28.0,\n",
       " 40.0,\n",
       " 28.0,\n",
       " 28.0,\n",
       " 28.0,\n",
       " 24.0,\n",
       " 19.0,\n",
       " 29.0,\n",
       " 28.0,\n",
       " 32.0,\n",
       " 53.0,\n",
       " 36.0,\n",
       " 28.0,\n",
       " 16.0,\n",
       " 19.0,\n",
       " 34.0,\n",
       " 39.0,\n",
       " 28.0,\n",
       " 32.0,\n",
       " 25.0,\n",
       " 39.0,\n",
       " 54.0,\n",
       " 36.0,\n",
       " 28.0,\n",
       " 18.0,\n",
       " 47.0,\n",
       " 22.0,\n",
       " 28.0,\n",
       " 35.0,\n",
       " 52.0,\n",
       " 47.0,\n",
       " 28.0,\n",
       " 37.0,\n",
       " 36.0,\n",
       " 28.0,\n",
       " 49.0,\n",
       " 28.0,\n",
       " 49.0,\n",
       " 24.0,\n",
       " 28.0,\n",
       " 28.0,\n",
       " 44.0,\n",
       " 35.0,\n",
       " 36.0,\n",
       " 30.0,\n",
       " 27.0,\n",
       " 22.0,\n",
       " 40.0,\n",
       " 39.0,\n",
       " 28.0,\n",
       " 28.0,\n",
       " 28.0,\n",
       " 35.0,\n",
       " 24.0,\n",
       " 34.0,\n",
       " 26.0,\n",
       " 4.0,\n",
       " 26.0,\n",
       " 27.0,\n",
       " 42.0,\n",
       " 20.0,\n",
       " 21.0,\n",
       " 21.0,\n",
       " 21.0,\n",
       " 26.0,\n",
       " 28.0,\n",
       " 51.0,\n",
       " 32.0,\n",
       " 28.0,\n",
       " 9.0,\n",
       " 28.0,\n",
       " 32.0,\n",
       " 31.0,\n",
       " 41.0,\n",
       " 28.0,\n",
       " 20.0,\n",
       " 24.0,\n",
       " 28.0,\n",
       " 48.0,\n",
       " 19.0,\n",
       " 28.0,\n",
       " 23.0,\n",
       " 28.0,\n",
       " 18.0,\n",
       " 21.0,\n",
       " 28.0,\n",
       " 18.0,\n",
       " 24.0,\n",
       " 28.0,\n",
       " 32.0,\n",
       " 23.0,\n",
       " 50.0,\n",
       " 40.0,\n",
       " 47.0,\n",
       " 36.0,\n",
       " 20.0,\n",
       " 32.0,\n",
       " 25.0,\n",
       " 28.0,\n",
       " 43.0,\n",
       " 28.0,\n",
       " 40.0,\n",
       " 31.0,\n",
       " 31.0,\n",
       " 28.0,\n",
       " 18.0,\n",
       " 24.5,\n",
       " 18.0,\n",
       " 43.0,\n",
       " 36.0,\n",
       " 28.0,\n",
       " 27.0,\n",
       " 20.0,\n",
       " 14.0,\n",
       " 25.0,\n",
       " 14.0,\n",
       " 19.0,\n",
       " 18.0,\n",
       " 15.0,\n",
       " 31.0,\n",
       " 4.0,\n",
       " 28.0,\n",
       " 25.0,\n",
       " 52.0,\n",
       " 44.0,\n",
       " 28.0,\n",
       " 49.0,\n",
       " 42.0,\n",
       " 18.0,\n",
       " 35.0,\n",
       " 18.0,\n",
       " 25.0,\n",
       " 26.0,\n",
       " 39.0,\n",
       " 45.0,\n",
       " 42.0,\n",
       " 22.0,\n",
       " 28.0,\n",
       " 24.0,\n",
       " 28.0,\n",
       " 48.0,\n",
       " 29.0,\n",
       " 52.0,\n",
       " 19.0,\n",
       " 38.0,\n",
       " 27.0,\n",
       " 28.0,\n",
       " 33.0,\n",
       " 6.0,\n",
       " 17.0,\n",
       " 34.0,\n",
       " 50.0,\n",
       " 27.0,\n",
       " 20.0,\n",
       " 30.0,\n",
       " 28.0,\n",
       " 25.0,\n",
       " 25.0,\n",
       " 29.0,\n",
       " 11.0,\n",
       " 28.0,\n",
       " 23.0,\n",
       " 23.0,\n",
       " 28.5,\n",
       " 48.0,\n",
       " 35.0,\n",
       " 28.0,\n",
       " 28.0,\n",
       " 28.0,\n",
       " 36.0,\n",
       " 21.0,\n",
       " 24.0,\n",
       " 31.0,\n",
       " 16.0,\n",
       " 30.0,\n",
       " 19.0,\n",
       " 31.0,\n",
       " 4.0,\n",
       " 6.0,\n",
       " 33.0,\n",
       " 23.0,\n",
       " 48.0,\n",
       " 28.0,\n",
       " 18.0,\n",
       " 34.0,\n",
       " 33.0,\n",
       " 28.0,\n",
       " 41.0,\n",
       " 20.0,\n",
       " 36.0,\n",
       " 16.0,\n",
       " 51.0,\n",
       " 28.0,\n",
       " 30.5,\n",
       " 28.0,\n",
       " 32.0,\n",
       " 24.0,\n",
       " 48.0,\n",
       " 28.0,\n",
       " 54.0,\n",
       " 18.0,\n",
       " 28.0,\n",
       " 5.0,\n",
       " 28.0,\n",
       " 43.0,\n",
       " 13.0,\n",
       " 17.0,\n",
       " 29.0,\n",
       " 28.0,\n",
       " 25.0,\n",
       " 25.0,\n",
       " 18.0,\n",
       " 8.0,\n",
       " 46.0,\n",
       " 28.0,\n",
       " 16.0,\n",
       " 28.0,\n",
       " 28.0,\n",
       " 25.0,\n",
       " 39.0,\n",
       " 49.0,\n",
       " 31.0,\n",
       " 30.0,\n",
       " 30.0,\n",
       " 34.0,\n",
       " 31.0,\n",
       " 11.0,\n",
       " 27.0,\n",
       " 31.0,\n",
       " 39.0,\n",
       " 18.0,\n",
       " 39.0,\n",
       " 33.0,\n",
       " 26.0,\n",
       " 39.0,\n",
       " 35.0,\n",
       " 6.0,\n",
       " 30.5,\n",
       " 28.0,\n",
       " 23.0,\n",
       " 31.0,\n",
       " 43.0,\n",
       " 10.0,\n",
       " 52.0,\n",
       " 27.0,\n",
       " 38.0,\n",
       " 27.0,\n",
       " 28.0,\n",
       " 28.0,\n",
       " 28.0,\n",
       " 15.0,\n",
       " 28.0,\n",
       " 23.0,\n",
       " 18.0,\n",
       " 39.0,\n",
       " 21.0,\n",
       " 28.0,\n",
       " 32.0,\n",
       " 28.0,\n",
       " 20.0,\n",
       " 16.0,\n",
       " 30.0,\n",
       " 34.5,\n",
       " 17.0,\n",
       " 42.0,\n",
       " 28.0,\n",
       " 35.0,\n",
       " 28.0,\n",
       " 28.0,\n",
       " 4.0,\n",
       " 9.0,\n",
       " 16.0,\n",
       " 44.0,\n",
       " 18.0,\n",
       " 45.0,\n",
       " 51.0,\n",
       " 24.0,\n",
       " 28.0,\n",
       " 41.0,\n",
       " 21.0,\n",
       " 48.0,\n",
       " 28.0,\n",
       " 24.0,\n",
       " 42.0,\n",
       " 27.0,\n",
       " 31.0,\n",
       " 28.0,\n",
       " 4.0,\n",
       " 26.0,\n",
       " 47.0,\n",
       " 33.0,\n",
       " 47.0,\n",
       " 28.0,\n",
       " 15.0,\n",
       " 20.0,\n",
       " 19.0,\n",
       " 28.0,\n",
       " 25.0,\n",
       " 33.0,\n",
       " 22.0,\n",
       " 28.0,\n",
       " 25.0,\n",
       " 39.0,\n",
       " 27.0,\n",
       " 19.0,\n",
       " 28.0,\n",
       " 26.0,\n",
       " 32.0]"
      ]
     },
     "execution_count": 406,
     "metadata": {},
     "output_type": "execute_result"
    }
   ],
   "source": [
    "outlier"
   ]
  },
  {
   "cell_type": "code",
   "execution_count": null,
   "metadata": {
    "colab": {
     "base_uri": "https://localhost:8080/"
    },
    "id": "m1P8_Jl8qWP8",
    "outputId": "73f91c3d-b699-4e3c-9dc9-b9278a8d731b"
   },
   "outputs": [
    {
     "data": {
      "text/plain": [
       "Int64Index([  8,  17,  25,  28,  51,  60,  64,  69,  72,  86,  89, 120, 160,\n",
       "            165, 172, 177, 181, 183, 202, 230, 234, 262, 267, 279, 325, 342,\n",
       "            375, 387, 410, 481, 486, 542, 543, 635, 643, 684, 687, 727, 788,\n",
       "            793, 814, 820, 825, 847, 851, 864],\n",
       "           dtype='int64', name='PassengerId')"
      ]
     },
     "execution_count": 407,
     "metadata": {},
     "output_type": "execute_result"
    }
   ],
   "source": [
    "ind1=data['SibSp']>Up_lim\n",
    "data.loc[ind1].index"
   ]
  },
  {
   "cell_type": "code",
   "execution_count": null,
   "metadata": {
    "id": "0lizfdLNqZTE"
   },
   "outputs": [],
   "source": [
    "data.drop([  8,  17,  25,  28,  51,  60,  64,  69,  72,  86,  89, 120, 160,\n",
    "            165, 172, 177, 181, 183, 202, 230, 234, 262, 267, 279, 325, 342,\n",
    "            375, 387, 410, 481, 486, 542, 543, 635, 643, 684, 687, 727, 788,\n",
    "            793, 814, 820, 825, 847, 851, 864],inplace=True)"
   ]
  },
  {
   "cell_type": "code",
   "execution_count": null,
   "metadata": {
    "colab": {
     "base_uri": "https://localhost:8080/",
     "height": 298
    },
    "id": "d7OTBW_Eqm3n",
    "outputId": "8b633b4c-cea1-44e7-d43a-47adf6dd874f"
   },
   "outputs": [
    {
     "data": {
      "text/plain": [
       "Text(0.5, 1.0, 'Box plot of SibSp')"
      ]
     },
     "execution_count": 409,
     "metadata": {},
     "output_type": "execute_result"
    },
    {
     "data": {
      "image/png": "[encoded data removed]",
      "text/plain": [
       "<Figure size 432x288 with 1 Axes>"
      ]
     },
     "metadata": {
      "needs_background": "light"
     },
     "output_type": "display_data"
    }
   ],
   "source": [
    "plt.boxplot(data['SibSp'])\n",
    "plt.title(\"Box plot of SibSp\")"
   ]
  },
  {
   "cell_type": "markdown",
   "metadata": {
    "id": "FYj-K1b4qq0c"
   },
   "source": [
    "**c.Fare Column**"
   ]
  },
  {
   "cell_type": "code",
   "execution_count": null,
   "metadata": {
    "colab": {
     "base_uri": "https://localhost:8080/",
     "height": 298
    },
    "id": "lsWA8kIdkY6n",
    "outputId": "1822aef2-eb1f-4b73-88c1-4d4d7585d679"
   },
   "outputs": [
    {
     "data": {
      "text/plain": [
       "Text(0.5, 1.0, 'Box plot of Fare')"
      ]
     },
     "execution_count": 410,
     "metadata": {},
     "output_type": "execute_result"
    },
    {
     "data": {
      "image/png": "[encoded data removed]",
      "text/plain": [
       "<Figure size 432x288 with 1 Axes>"
      ]
     },
     "metadata": {
      "needs_background": "light"
     },
     "output_type": "display_data"
    }
   ],
   "source": [
    "plt.boxplot(data['Fare'])\n",
    "plt.title(\"Box plot of Fare\")"
   ]
  },
  {
   "cell_type": "code",
   "execution_count": null,
   "metadata": {
    "id": "EwOdtpytqwqj"
   },
   "outputs": [],
   "source": [
    "Q1 = np.percentile(data['Fare'], 25, interpolation='midpoint')\n",
    "Q2 = np.percentile(data['Fare'], 50, interpolation='midpoint')\n",
    "Q3 = np.percentile(data['Fare'], 75, interpolation='midpoint')\n",
    "IQR=Q3-Q1\n",
    "low_lim=Q1-1.5*IQR\n",
    "Up_lim=Q3+1.5*IQR"
   ]
  },
  {
   "cell_type": "code",
   "execution_count": null,
   "metadata": {
    "id": "YPcjpre9rCYp"
   },
   "outputs": [],
   "source": [
    "outlier = []\n",
    "for x in data['Fare']:\n",
    "    if((x>Up_lim) or (x<low_lim)):\n",
    "        outlier.append(x)"
   ]
  },
  {
   "cell_type": "code",
   "execution_count": null,
   "metadata": {
    "colab": {
     "base_uri": "https://localhost:8080/"
    },
    "id": "3qIgaBrDrFA8",
    "outputId": "055986d5-f881-4650-f24a-f9ee3d80cc40"
   },
   "outputs": [
    {
     "data": {
      "text/plain": [
       "[71.2833,\n",
       " 146.5208,\n",
       " 82.1708,\n",
       " 76.7292,\n",
       " 83.475,\n",
       " 73.5,\n",
       " 61.175,\n",
       " 63.3583,\n",
       " 77.2875,\n",
       " 247.5208,\n",
       " 73.5,\n",
       " 77.2875,\n",
       " 79.2,\n",
       " 66.6,\n",
       " 61.3792,\n",
       " 113.275,\n",
       " 76.2917,\n",
       " 90.0,\n",
       " 83.475,\n",
       " 90.0,\n",
       " 79.2,\n",
       " 86.5,\n",
       " 512.3292,\n",
       " 79.65,\n",
       " 135.6333,\n",
       " 78.85,\n",
       " 91.0792,\n",
       " 151.55,\n",
       " 247.5208,\n",
       " 151.55,\n",
       " 110.8833,\n",
       " 108.9,\n",
       " 83.1583,\n",
       " 262.375,\n",
       " 164.8667,\n",
       " 134.5,\n",
       " 135.6333,\n",
       " 57.9792,\n",
       " 153.4625,\n",
       " 133.65,\n",
       " 66.6,\n",
       " 134.5,\n",
       " 69.3,\n",
       " 135.6333,\n",
       " 82.1708,\n",
       " 211.5,\n",
       " 227.525,\n",
       " 73.5,\n",
       " 120.0,\n",
       " 113.275,\n",
       " 90.0,\n",
       " 120.0,\n",
       " 81.8583,\n",
       " 89.1042,\n",
       " 91.0792,\n",
       " 90.0,\n",
       " 78.2667,\n",
       " 151.55,\n",
       " 86.5,\n",
       " 108.9,\n",
       " 59.4,\n",
       " 93.5,\n",
       " 57.9792,\n",
       " 221.7792,\n",
       " 106.425,\n",
       " 71.0,\n",
       " 106.425,\n",
       " 110.8833,\n",
       " 227.525,\n",
       " 79.65,\n",
       " 110.8833,\n",
       " 79.65,\n",
       " 78.2667,\n",
       " 153.4625,\n",
       " 65.0,\n",
       " 77.9583,\n",
       " 69.3,\n",
       " 76.7292,\n",
       " 73.5,\n",
       " 133.65,\n",
       " 73.5,\n",
       " 512.3292,\n",
       " 76.7292,\n",
       " 211.3375,\n",
       " 110.8833,\n",
       " 227.525,\n",
       " 151.55,\n",
       " 227.525,\n",
       " 211.3375,\n",
       " 512.3292,\n",
       " 78.85,\n",
       " 262.375,\n",
       " 65.0,\n",
       " 86.5,\n",
       " 120.0,\n",
       " 77.9583,\n",
       " 211.3375,\n",
       " 79.2,\n",
       " 120.0,\n",
       " 93.5,\n",
       " 83.1583,\n",
       " 89.1042,\n",
       " 164.8667]"
      ]
     },
     "execution_count": 413,
     "metadata": {},
     "output_type": "execute_result"
    }
   ],
   "source": [
    "outlier"
   ]
  },
  {
   "cell_type": "code",
   "execution_count": null,
   "metadata": {
    "id": "rSHim_wwrM-I"
   },
   "outputs": [],
   "source": [
    "ind1=data['Fare']>Up_lim\n",
    "in2=data.loc[ind1].index\n",
    "data.drop(in2,inplace=True)"
   ]
  },
  {
   "cell_type": "code",
   "execution_count": null,
   "metadata": {
    "colab": {
     "base_uri": "https://localhost:8080/",
     "height": 298
    },
    "id": "rICe4HkY1rie",
    "outputId": "bb6382da-9c14-4be0-f30d-11083b71138d"
   },
   "outputs": [
    {
     "data": {
      "text/plain": [
       "Text(0.5, 1.0, 'Box plot of Fare')"
      ]
     },
     "execution_count": 415,
     "metadata": {},
     "output_type": "execute_result"
    },
    {
     "data": {
      "image/png": "[encoded data removed]",
      "text/plain": [
       "<Figure size 432x288 with 1 Axes>"
      ]
     },
     "metadata": {
      "needs_background": "light"
     },
     "output_type": "display_data"
    }
   ],
   "source": [
    "plt.boxplot(data['Fare'])\n",
    "plt.title(\"Box plot of Fare\")"
   ]
  },
  {
   "cell_type": "markdown",
   "metadata": {
    "id": "68CrZfNHfiFe"
   },
   "source": [
    "Converting Categorical data :- Replacing categorical features with dummy variables in pandas. Otherwise Machine learning algorithm will not be able to directly take in those features as inputs."
   ]
  },
  {
   "cell_type": "code",
   "execution_count": null,
   "metadata": {
    "colab": {
     "base_uri": "https://localhost:8080/",
     "height": 235
    },
    "id": "48ysm2DDfmIP",
    "outputId": "5999919d-6dcf-43de-8c11-274ad0755be1"
   },
   "outputs": [
    {
     "data": {
      "text/html": [
       "<div>\n",
       "<style scoped>\n",
       "    .dataframe tbody tr th:only-of-type {\n",
       "        vertical-align: middle;\n",
       "    }\n",
       "\n",
       "    .dataframe tbody tr th {\n",
       "        vertical-align: top;\n",
       "    }\n",
       "\n",
       "    .dataframe thead th {\n",
       "        text-align: right;\n",
       "    }\n",
       "</style>\n",
       "<table border=\"1\" class=\"dataframe\">\n",
       "  <thead>\n",
       "    <tr style=\"text-align: right;\">\n",
       "      <th></th>\n",
       "      <th>Q</th>\n",
       "      <th>S</th>\n",
       "    </tr>\n",
       "    <tr>\n",
       "      <th>PassengerId</th>\n",
       "      <th></th>\n",
       "      <th></th>\n",
       "    </tr>\n",
       "  </thead>\n",
       "  <tbody>\n",
       "    <tr>\n",
       "      <th>1</th>\n",
       "      <td>0</td>\n",
       "      <td>1</td>\n",
       "    </tr>\n",
       "    <tr>\n",
       "      <th>3</th>\n",
       "      <td>0</td>\n",
       "      <td>1</td>\n",
       "    </tr>\n",
       "    <tr>\n",
       "      <th>4</th>\n",
       "      <td>0</td>\n",
       "      <td>1</td>\n",
       "    </tr>\n",
       "    <tr>\n",
       "      <th>5</th>\n",
       "      <td>0</td>\n",
       "      <td>1</td>\n",
       "    </tr>\n",
       "    <tr>\n",
       "      <th>6</th>\n",
       "      <td>1</td>\n",
       "      <td>0</td>\n",
       "    </tr>\n",
       "  </tbody>\n",
       "</table>\n",
       "</div>"
      ],
      "text/plain": [
       "             Q  S\n",
       "PassengerId      \n",
       "1            0  1\n",
       "3            0  1\n",
       "4            0  1\n",
       "5            0  1\n",
       "6            1  0"
      ]
     },
     "execution_count": 416,
     "metadata": {},
     "output_type": "execute_result"
    }
   ],
   "source": [
    "pd.get_dummies(data['Embarked'],drop_first=True).head()"
   ]
  },
  {
   "cell_type": "code",
   "execution_count": null,
   "metadata": {
    "colab": {
     "base_uri": "https://localhost:8080/",
     "height": 235
    },
    "id": "8bJI9Dnrfqxj",
    "outputId": "741cc1a1-0ff4-472f-d101-375be5d9591a"
   },
   "outputs": [
    {
     "data": {
      "text/html": [
       "<div>\n",
       "<style scoped>\n",
       "    .dataframe tbody tr th:only-of-type {\n",
       "        vertical-align: middle;\n",
       "    }\n",
       "\n",
       "    .dataframe tbody tr th {\n",
       "        vertical-align: top;\n",
       "    }\n",
       "\n",
       "    .dataframe thead th {\n",
       "        text-align: right;\n",
       "    }\n",
       "</style>\n",
       "<table border=\"1\" class=\"dataframe\">\n",
       "  <thead>\n",
       "    <tr style=\"text-align: right;\">\n",
       "      <th></th>\n",
       "      <th>Survived</th>\n",
       "      <th>Pclass</th>\n",
       "      <th>Age</th>\n",
       "      <th>SibSp</th>\n",
       "      <th>Parch</th>\n",
       "      <th>Fare</th>\n",
       "    </tr>\n",
       "    <tr>\n",
       "      <th>PassengerId</th>\n",
       "      <th></th>\n",
       "      <th></th>\n",
       "      <th></th>\n",
       "      <th></th>\n",
       "      <th></th>\n",
       "      <th></th>\n",
       "    </tr>\n",
       "  </thead>\n",
       "  <tbody>\n",
       "    <tr>\n",
       "      <th>1</th>\n",
       "      <td>0</td>\n",
       "      <td>3</td>\n",
       "      <td>22.0</td>\n",
       "      <td>1</td>\n",
       "      <td>0</td>\n",
       "      <td>7.2500</td>\n",
       "    </tr>\n",
       "    <tr>\n",
       "      <th>3</th>\n",
       "      <td>1</td>\n",
       "      <td>3</td>\n",
       "      <td>26.0</td>\n",
       "      <td>0</td>\n",
       "      <td>0</td>\n",
       "      <td>7.9250</td>\n",
       "    </tr>\n",
       "    <tr>\n",
       "      <th>4</th>\n",
       "      <td>1</td>\n",
       "      <td>1</td>\n",
       "      <td>35.0</td>\n",
       "      <td>1</td>\n",
       "      <td>0</td>\n",
       "      <td>53.1000</td>\n",
       "    </tr>\n",
       "    <tr>\n",
       "      <th>5</th>\n",
       "      <td>0</td>\n",
       "      <td>3</td>\n",
       "      <td>35.0</td>\n",
       "      <td>0</td>\n",
       "      <td>0</td>\n",
       "      <td>8.0500</td>\n",
       "    </tr>\n",
       "    <tr>\n",
       "      <th>6</th>\n",
       "      <td>0</td>\n",
       "      <td>3</td>\n",
       "      <td>28.0</td>\n",
       "      <td>0</td>\n",
       "      <td>0</td>\n",
       "      <td>8.4583</td>\n",
       "    </tr>\n",
       "  </tbody>\n",
       "</table>\n",
       "</div>"
      ],
      "text/plain": [
       "             Survived  Pclass   Age  SibSp  Parch     Fare\n",
       "PassengerId                                               \n",
       "1                   0       3  22.0      1      0   7.2500\n",
       "3                   1       3  26.0      0      0   7.9250\n",
       "4                   1       1  35.0      1      0  53.1000\n",
       "5                   0       3  35.0      0      0   8.0500\n",
       "6                   0       3  28.0      0      0   8.4583"
      ]
     },
     "execution_count": 417,
     "metadata": {},
     "output_type": "execute_result"
    }
   ],
   "source": [
    "sex = pd.get_dummies(data['Sex'],drop_first=True)\n",
    "embark = pd.get_dummies(data['Embarked'],drop_first=True)\n",
    "data.drop(['Sex','Embarked','Name','Ticket'],axis =1,inplace=True)\n",
    "data.head()"
   ]
  },
  {
   "cell_type": "code",
   "execution_count": null,
   "metadata": {
    "colab": {
     "base_uri": "https://localhost:8080/",
     "height": 235
    },
    "id": "65spY8v5f4te",
    "outputId": "a8bdfc61-9ab6-4c22-96a4-c6ac99edd036"
   },
   "outputs": [
    {
     "data": {
      "text/html": [
       "<div>\n",
       "<style scoped>\n",
       "    .dataframe tbody tr th:only-of-type {\n",
       "        vertical-align: middle;\n",
       "    }\n",
       "\n",
       "    .dataframe tbody tr th {\n",
       "        vertical-align: top;\n",
       "    }\n",
       "\n",
       "    .dataframe thead th {\n",
       "        text-align: right;\n",
       "    }\n",
       "</style>\n",
       "<table border=\"1\" class=\"dataframe\">\n",
       "  <thead>\n",
       "    <tr style=\"text-align: right;\">\n",
       "      <th></th>\n",
       "      <th>Survived</th>\n",
       "      <th>Pclass</th>\n",
       "      <th>Age</th>\n",
       "      <th>SibSp</th>\n",
       "      <th>Parch</th>\n",
       "      <th>Fare</th>\n",
       "      <th>male</th>\n",
       "      <th>Q</th>\n",
       "      <th>S</th>\n",
       "    </tr>\n",
       "    <tr>\n",
       "      <th>PassengerId</th>\n",
       "      <th></th>\n",
       "      <th></th>\n",
       "      <th></th>\n",
       "      <th></th>\n",
       "      <th></th>\n",
       "      <th></th>\n",
       "      <th></th>\n",
       "      <th></th>\n",
       "      <th></th>\n",
       "    </tr>\n",
       "  </thead>\n",
       "  <tbody>\n",
       "    <tr>\n",
       "      <th>1</th>\n",
       "      <td>0</td>\n",
       "      <td>3</td>\n",
       "      <td>22.0</td>\n",
       "      <td>1</td>\n",
       "      <td>0</td>\n",
       "      <td>7.2500</td>\n",
       "      <td>1</td>\n",
       "      <td>0</td>\n",
       "      <td>1</td>\n",
       "    </tr>\n",
       "    <tr>\n",
       "      <th>3</th>\n",
       "      <td>1</td>\n",
       "      <td>3</td>\n",
       "      <td>26.0</td>\n",
       "      <td>0</td>\n",
       "      <td>0</td>\n",
       "      <td>7.9250</td>\n",
       "      <td>0</td>\n",
       "      <td>0</td>\n",
       "      <td>1</td>\n",
       "    </tr>\n",
       "    <tr>\n",
       "      <th>4</th>\n",
       "      <td>1</td>\n",
       "      <td>1</td>\n",
       "      <td>35.0</td>\n",
       "      <td>1</td>\n",
       "      <td>0</td>\n",
       "      <td>53.1000</td>\n",
       "      <td>0</td>\n",
       "      <td>0</td>\n",
       "      <td>1</td>\n",
       "    </tr>\n",
       "    <tr>\n",
       "      <th>5</th>\n",
       "      <td>0</td>\n",
       "      <td>3</td>\n",
       "      <td>35.0</td>\n",
       "      <td>0</td>\n",
       "      <td>0</td>\n",
       "      <td>8.0500</td>\n",
       "      <td>1</td>\n",
       "      <td>0</td>\n",
       "      <td>1</td>\n",
       "    </tr>\n",
       "    <tr>\n",
       "      <th>6</th>\n",
       "      <td>0</td>\n",
       "      <td>3</td>\n",
       "      <td>28.0</td>\n",
       "      <td>0</td>\n",
       "      <td>0</td>\n",
       "      <td>8.4583</td>\n",
       "      <td>1</td>\n",
       "      <td>1</td>\n",
       "      <td>0</td>\n",
       "    </tr>\n",
       "  </tbody>\n",
       "</table>\n",
       "</div>"
      ],
      "text/plain": [
       "             Survived  Pclass   Age  SibSp  Parch     Fare  male  Q  S\n",
       "PassengerId                                                           \n",
       "1                   0       3  22.0      1      0   7.2500     1  0  1\n",
       "3                   1       3  26.0      0      0   7.9250     0  0  1\n",
       "4                   1       1  35.0      1      0  53.1000     0  0  1\n",
       "5                   0       3  35.0      0      0   8.0500     1  0  1\n",
       "6                   0       3  28.0      0      0   8.4583     1  1  0"
      ]
     },
     "execution_count": 418,
     "metadata": {},
     "output_type": "execute_result"
    }
   ],
   "source": [
    "data=pd.concat([data,sex,embark],axis=1)\n",
    "data.head()"
   ]
  },
  {
   "cell_type": "markdown",
   "metadata": {
    "id": "LGvxVt-0sCAN"
   },
   "source": [
    "# **6. Do min max scaling on the feature set (Take ‘Survived’ as target)**"
   ]
  },
  {
   "cell_type": "code",
   "execution_count": null,
   "metadata": {
    "id": "yh8LMd4QQZk0"
   },
   "outputs": [],
   "source": [
    "from sklearn import preprocessing\n",
    "X=data.drop('Survived',axis=1)"
   ]
  },
  {
   "cell_type": "code",
   "execution_count": null,
   "metadata": {
    "id": "D0V2OtzLeWFn"
   },
   "outputs": [],
   "source": [
    "min_max= preprocessing.MinMaxScaler(feature_range=(0,1))"
   ]
  },
  {
   "cell_type": "code",
   "execution_count": null,
   "metadata": {
    "id": "VKrUt99Zeb7I"
   },
   "outputs": [],
   "source": [
    "X=min_max.fit_transform(X)"
   ]
  },
  {
   "cell_type": "code",
   "execution_count": null,
   "metadata": {
    "colab": {
     "base_uri": "https://localhost:8080/",
     "height": 297
    },
    "id": "Xi7p6onOdS1G",
    "outputId": "95fffdc4-98a4-4788-82a5-9d2dfaea01c0"
   },
   "outputs": [
    {
     "data": {
      "text/html": [
       "<div>\n",
       "<style scoped>\n",
       "    .dataframe tbody tr th:only-of-type {\n",
       "        vertical-align: middle;\n",
       "    }\n",
       "\n",
       "    .dataframe tbody tr th {\n",
       "        vertical-align: top;\n",
       "    }\n",
       "\n",
       "    .dataframe thead th {\n",
       "        text-align: right;\n",
       "    }\n",
       "</style>\n",
       "<table border=\"1\" class=\"dataframe\">\n",
       "  <thead>\n",
       "    <tr style=\"text-align: right;\">\n",
       "      <th></th>\n",
       "      <th>0</th>\n",
       "      <th>1</th>\n",
       "      <th>2</th>\n",
       "      <th>3</th>\n",
       "      <th>4</th>\n",
       "      <th>5</th>\n",
       "      <th>6</th>\n",
       "      <th>7</th>\n",
       "    </tr>\n",
       "  </thead>\n",
       "  <tbody>\n",
       "    <tr>\n",
       "      <th>count</th>\n",
       "      <td>699.000000</td>\n",
       "      <td>699.000000</td>\n",
       "      <td>699.000000</td>\n",
       "      <td>699.000000</td>\n",
       "      <td>699.000000</td>\n",
       "      <td>699.000000</td>\n",
       "      <td>699.000000</td>\n",
       "      <td>699.000000</td>\n",
       "    </tr>\n",
       "    <tr>\n",
       "      <th>mean</th>\n",
       "      <td>0.752504</td>\n",
       "      <td>0.515178</td>\n",
       "      <td>0.141631</td>\n",
       "      <td>0.048164</td>\n",
       "      <td>0.287842</td>\n",
       "      <td>0.686695</td>\n",
       "      <td>0.097282</td>\n",
       "      <td>0.752504</td>\n",
       "    </tr>\n",
       "    <tr>\n",
       "      <th>std</th>\n",
       "      <td>0.355439</td>\n",
       "      <td>0.189452</td>\n",
       "      <td>0.256655</td>\n",
       "      <td>0.127365</td>\n",
       "      <td>0.220339</td>\n",
       "      <td>0.464169</td>\n",
       "      <td>0.296553</td>\n",
       "      <td>0.431867</td>\n",
       "    </tr>\n",
       "    <tr>\n",
       "      <th>min</th>\n",
       "      <td>0.000000</td>\n",
       "      <td>0.000000</td>\n",
       "      <td>0.000000</td>\n",
       "      <td>0.000000</td>\n",
       "      <td>0.000000</td>\n",
       "      <td>0.000000</td>\n",
       "      <td>0.000000</td>\n",
       "      <td>0.000000</td>\n",
       "    </tr>\n",
       "    <tr>\n",
       "      <th>25%</th>\n",
       "      <td>0.500000</td>\n",
       "      <td>0.402762</td>\n",
       "      <td>0.000000</td>\n",
       "      <td>0.000000</td>\n",
       "      <td>0.138195</td>\n",
       "      <td>0.000000</td>\n",
       "      <td>0.000000</td>\n",
       "      <td>1.000000</td>\n",
       "    </tr>\n",
       "    <tr>\n",
       "      <th>50%</th>\n",
       "      <td>1.000000</td>\n",
       "      <td>0.514744</td>\n",
       "      <td>0.000000</td>\n",
       "      <td>0.000000</td>\n",
       "      <td>0.184211</td>\n",
       "      <td>1.000000</td>\n",
       "      <td>0.000000</td>\n",
       "      <td>1.000000</td>\n",
       "    </tr>\n",
       "    <tr>\n",
       "      <th>75%</th>\n",
       "      <td>1.000000</td>\n",
       "      <td>0.603397</td>\n",
       "      <td>0.500000</td>\n",
       "      <td>0.000000</td>\n",
       "      <td>0.407895</td>\n",
       "      <td>1.000000</td>\n",
       "      <td>0.000000</td>\n",
       "      <td>1.000000</td>\n",
       "    </tr>\n",
       "    <tr>\n",
       "      <th>max</th>\n",
       "      <td>1.000000</td>\n",
       "      <td>1.000000</td>\n",
       "      <td>1.000000</td>\n",
       "      <td>1.000000</td>\n",
       "      <td>1.000000</td>\n",
       "      <td>1.000000</td>\n",
       "      <td>1.000000</td>\n",
       "      <td>1.000000</td>\n",
       "    </tr>\n",
       "  </tbody>\n",
       "</table>\n",
       "</div>"
      ],
      "text/plain": [
       "                0           1           2  ...           5           6           7\n",
       "count  699.000000  699.000000  699.000000  ...  699.000000  699.000000  699.000000\n",
       "mean     0.752504    0.515178    0.141631  ...    0.686695    0.097282    0.752504\n",
       "std      0.355439    0.189452    0.256655  ...    0.464169    0.296553    0.431867\n",
       "min      0.000000    0.000000    0.000000  ...    0.000000    0.000000    0.000000\n",
       "25%      0.500000    0.402762    0.000000  ...    0.000000    0.000000    1.000000\n",
       "50%      1.000000    0.514744    0.000000  ...    1.000000    0.000000    1.000000\n",
       "75%      1.000000    0.603397    0.500000  ...    1.000000    0.000000    1.000000\n",
       "max      1.000000    1.000000    1.000000  ...    1.000000    1.000000    1.000000\n",
       "\n",
       "[8 rows x 8 columns]"
      ]
     },
     "execution_count": 422,
     "metadata": {},
     "output_type": "execute_result"
    }
   ],
   "source": [
    "X=pd.DataFrame(X)\n",
    "X.describe()"
   ]
  },
  {
   "cell_type": "code",
   "execution_count": null,
   "metadata": {
    "colab": {
     "base_uri": "https://localhost:8080/",
     "height": 204
    },
    "id": "LxF248O5gsqY",
    "outputId": "5b016218-76b4-4ddc-9a8a-b26b2cd5439f"
   },
   "outputs": [
    {
     "data": {
      "text/html": [
       "<div>\n",
       "<style scoped>\n",
       "    .dataframe tbody tr th:only-of-type {\n",
       "        vertical-align: middle;\n",
       "    }\n",
       "\n",
       "    .dataframe tbody tr th {\n",
       "        vertical-align: top;\n",
       "    }\n",
       "\n",
       "    .dataframe thead th {\n",
       "        text-align: right;\n",
       "    }\n",
       "</style>\n",
       "<table border=\"1\" class=\"dataframe\">\n",
       "  <thead>\n",
       "    <tr style=\"text-align: right;\">\n",
       "      <th></th>\n",
       "      <th>0</th>\n",
       "      <th>1</th>\n",
       "      <th>2</th>\n",
       "      <th>3</th>\n",
       "      <th>4</th>\n",
       "      <th>5</th>\n",
       "      <th>6</th>\n",
       "      <th>7</th>\n",
       "    </tr>\n",
       "  </thead>\n",
       "  <tbody>\n",
       "    <tr>\n",
       "      <th>0</th>\n",
       "      <td>1.0</td>\n",
       "      <td>0.402762</td>\n",
       "      <td>0.5</td>\n",
       "      <td>0.0</td>\n",
       "      <td>0.127193</td>\n",
       "      <td>1.0</td>\n",
       "      <td>0.0</td>\n",
       "      <td>1.0</td>\n",
       "    </tr>\n",
       "    <tr>\n",
       "      <th>1</th>\n",
       "      <td>1.0</td>\n",
       "      <td>0.477417</td>\n",
       "      <td>0.0</td>\n",
       "      <td>0.0</td>\n",
       "      <td>0.139035</td>\n",
       "      <td>0.0</td>\n",
       "      <td>0.0</td>\n",
       "      <td>1.0</td>\n",
       "    </tr>\n",
       "    <tr>\n",
       "      <th>2</th>\n",
       "      <td>0.0</td>\n",
       "      <td>0.645390</td>\n",
       "      <td>0.5</td>\n",
       "      <td>0.0</td>\n",
       "      <td>0.931579</td>\n",
       "      <td>0.0</td>\n",
       "      <td>0.0</td>\n",
       "      <td>1.0</td>\n",
       "    </tr>\n",
       "    <tr>\n",
       "      <th>3</th>\n",
       "      <td>1.0</td>\n",
       "      <td>0.645390</td>\n",
       "      <td>0.0</td>\n",
       "      <td>0.0</td>\n",
       "      <td>0.141228</td>\n",
       "      <td>1.0</td>\n",
       "      <td>0.0</td>\n",
       "      <td>1.0</td>\n",
       "    </tr>\n",
       "    <tr>\n",
       "      <th>4</th>\n",
       "      <td>1.0</td>\n",
       "      <td>0.514744</td>\n",
       "      <td>0.0</td>\n",
       "      <td>0.0</td>\n",
       "      <td>0.148391</td>\n",
       "      <td>1.0</td>\n",
       "      <td>1.0</td>\n",
       "      <td>0.0</td>\n",
       "    </tr>\n",
       "  </tbody>\n",
       "</table>\n",
       "</div>"
      ],
      "text/plain": [
       "     0         1    2    3         4    5    6    7\n",
       "0  1.0  0.402762  0.5  0.0  0.127193  1.0  0.0  1.0\n",
       "1  1.0  0.477417  0.0  0.0  0.139035  0.0  0.0  1.0\n",
       "2  0.0  0.645390  0.5  0.0  0.931579  0.0  0.0  1.0\n",
       "3  1.0  0.645390  0.0  0.0  0.141228  1.0  0.0  1.0\n",
       "4  1.0  0.514744  0.0  0.0  0.148391  1.0  1.0  0.0"
      ]
     },
     "execution_count": 423,
     "metadata": {},
     "output_type": "execute_result"
    }
   ],
   "source": [
    "X.head()"
   ]
  },
  {
   "cell_type": "markdown",
   "metadata": {
    "id": "G92Lo7hzgo3C"
   },
   "source": [
    "Here all the entries in the dataframe are in the range (0,1)."
   ]
  }
 ],
 "metadata": {
  "colab": {
   "collapsed_sections": [],
   "name": "SANGEETHA N S",
   "provenance": []
  },
  "kernelspec": {
   "display_name": "Python 3",
   "language": "python",
   "name": "python3"
  },
  "language_info": {
   "codemirror_mode": {
    "name": "ipython",
    "version": 3
   },
   "file_extension": ".py",
   "mimetype": "text/x-python",
   "name": "python",
   "nbconvert_exporter": "python",
   "pygments_lexer": "ipython3",
   "version": "3.8.8"
  }
 },
 "nbformat": 4,
 "nbformat_minor": 1
}
