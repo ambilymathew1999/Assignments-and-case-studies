{
 "cells": [
  {
   "cell_type": "markdown",
   "id": "872aeba8",
   "metadata": {},
   "source": [
    "# Case Study on Correlation and Regression"
   ]
  },
  {
   "cell_type": "code",
   "execution_count": 1,
   "id": "88681aca",
   "metadata": {},
   "outputs": [],
   "source": [
    "import pandas as pd\n",
    "import numpy as np\n",
    "import matplotlib.pyplot as plt\n",
    "import seaborn as sns"
   ]
  },
  {
   "cell_type": "code",
   "execution_count": 2,
   "id": "6b1e62aa",
   "metadata": {},
   "outputs": [
    {
     "data": {
      "text/html": [
       "<div>\n",
       "<style scoped>\n",
       "    .dataframe tbody tr th:only-of-type {\n",
       "        vertical-align: middle;\n",
       "    }\n",
       "\n",
       "    .dataframe tbody tr th {\n",
       "        vertical-align: top;\n",
       "    }\n",
       "\n",
       "    .dataframe thead th {\n",
       "        text-align: right;\n",
       "    }\n",
       "</style>\n",
       "<table border=\"1\" class=\"dataframe\">\n",
       "  <thead>\n",
       "    <tr style=\"text-align: right;\">\n",
       "      <th></th>\n",
       "      <th>Date</th>\n",
       "      <th>Add1(in Thousands)</th>\n",
       "      <th>Add2(in Thousands)</th>\n",
       "      <th>Add3(in Thousands)</th>\n",
       "      <th>Add4(in Thousands)</th>\n",
       "      <th>Add5(in Thousands)</th>\n",
       "      <th>Profit(in Thousands)</th>\n",
       "    </tr>\n",
       "  </thead>\n",
       "  <tbody>\n",
       "    <tr>\n",
       "      <th>0</th>\n",
       "      <td>2018-10-08</td>\n",
       "      <td>208.00</td>\n",
       "      <td>222.25</td>\n",
       "      <td>206.85</td>\n",
       "      <td>216.00</td>\n",
       "      <td>215.15</td>\n",
       "      <td>4093.065</td>\n",
       "    </tr>\n",
       "    <tr>\n",
       "      <th>1</th>\n",
       "      <td>2018-10-05</td>\n",
       "      <td>217.00</td>\n",
       "      <td>218.60</td>\n",
       "      <td>205.90</td>\n",
       "      <td>210.25</td>\n",
       "      <td>209.20</td>\n",
       "      <td>4042.448</td>\n",
       "    </tr>\n",
       "    <tr>\n",
       "      <th>2</th>\n",
       "      <td>2018-10-04</td>\n",
       "      <td>223.50</td>\n",
       "      <td>227.80</td>\n",
       "      <td>216.15</td>\n",
       "      <td>217.25</td>\n",
       "      <td>218.20</td>\n",
       "      <td>4213.819</td>\n",
       "    </tr>\n",
       "    <tr>\n",
       "      <th>3</th>\n",
       "      <td>2018-10-03</td>\n",
       "      <td>230.00</td>\n",
       "      <td>237.50</td>\n",
       "      <td>225.75</td>\n",
       "      <td>226.45</td>\n",
       "      <td>227.60</td>\n",
       "      <td>4391.665</td>\n",
       "    </tr>\n",
       "    <tr>\n",
       "      <th>4</th>\n",
       "      <td>2018-10-01</td>\n",
       "      <td>234.55</td>\n",
       "      <td>234.60</td>\n",
       "      <td>221.05</td>\n",
       "      <td>230.30</td>\n",
       "      <td>230.90</td>\n",
       "      <td>4350.683</td>\n",
       "    </tr>\n",
       "  </tbody>\n",
       "</table>\n",
       "</div>"
      ],
      "text/plain": [
       "         Date  Add1(in Thousands)  Add2(in Thousands)  Add3(in Thousands)  \\\n",
       "0  2018-10-08              208.00              222.25              206.85   \n",
       "1  2018-10-05              217.00              218.60              205.90   \n",
       "2  2018-10-04              223.50              227.80              216.15   \n",
       "3  2018-10-03              230.00              237.50              225.75   \n",
       "4  2018-10-01              234.55              234.60              221.05   \n",
       "\n",
       "   Add4(in Thousands)  Add5(in Thousands)  Profit(in Thousands)  \n",
       "0              216.00              215.15              4093.065  \n",
       "1              210.25              209.20              4042.448  \n",
       "2              217.25              218.20              4213.819  \n",
       "3              226.45              227.60              4391.665  \n",
       "4              230.30              230.90              4350.683  "
      ]
     },
     "execution_count": 2,
     "metadata": {},
     "output_type": "execute_result"
    }
   ],
   "source": [
    "data=pd.read_csv('Add_sales_data_2018.csv')\n",
    "data.head()"
   ]
  },
  {
   "cell_type": "markdown",
   "id": "6c7b4845",
   "metadata": {},
   "source": [
    "# 1.Check whether there is any relationship between the amount spend for advertising through five different companies and profit generated"
   ]
  },
  {
   "cell_type": "markdown",
   "id": "5e7b0a99",
   "metadata": {},
   "source": [
    "# Correlation between Add1 and Profit"
   ]
  },
  {
   "cell_type": "code",
   "execution_count": 5,
   "id": "37e1fd55",
   "metadata": {},
   "outputs": [
    {
     "data": {
      "text/plain": [
       "0.9919745080684377"
      ]
     },
     "execution_count": 5,
     "metadata": {},
     "output_type": "execute_result"
    }
   ],
   "source": [
    "data['Add1(in Thousands)'].corr(data['Profit(in Thousands)'])"
   ]
  },
  {
   "cell_type": "markdown",
   "id": "89dbd992",
   "metadata": {},
   "source": [
    "Amount spend through company1 for Advertisement and its profit are highly correlated. That is, as amount for advertisement increases profit also increases. "
   ]
  },
  {
   "cell_type": "markdown",
   "id": "97f6e1e2",
   "metadata": {},
   "source": [
    "# Correlation between Add2 and Profit"
   ]
  },
  {
   "cell_type": "code",
   "execution_count": 7,
   "id": "aaa17a35",
   "metadata": {},
   "outputs": [
    {
     "data": {
      "text/plain": [
       "0.9991450390506722"
      ]
     },
     "execution_count": 7,
     "metadata": {},
     "output_type": "execute_result"
    }
   ],
   "source": [
    "data['Add2(in Thousands)'].corr(data['Profit(in Thousands)'])"
   ]
  },
  {
   "cell_type": "markdown",
   "id": "1685856b",
   "metadata": {},
   "source": [
    "Amount spend through company2 for Advertisement and its profit are highly correlated. That is, as amount for advertisement increases profit also increases. "
   ]
  },
  {
   "cell_type": "markdown",
   "id": "0ea0f1ff",
   "metadata": {},
   "source": [
    "# Correlation between Add3 and Profit"
   ]
  },
  {
   "cell_type": "code",
   "execution_count": 8,
   "id": "8fcfdd0b",
   "metadata": {},
   "outputs": [
    {
     "data": {
      "text/plain": [
       "0.9933891318372641"
      ]
     },
     "execution_count": 8,
     "metadata": {},
     "output_type": "execute_result"
    }
   ],
   "source": [
    "data['Add3(in Thousands)'].corr(data['Profit(in Thousands)'])"
   ]
  },
  {
   "cell_type": "markdown",
   "id": "ff0e1abd",
   "metadata": {},
   "source": [
    "Amount spend through company3 for Advertisement and its profit are highly correlated. That is, as amount for advertisement increases profit also increases"
   ]
  },
  {
   "cell_type": "markdown",
   "id": "2dd21cb4",
   "metadata": {},
   "source": [
    "# Correlation between Add4 and Profit"
   ]
  },
  {
   "cell_type": "code",
   "execution_count": 10,
   "id": "977aa939",
   "metadata": {},
   "outputs": [
    {
     "data": {
      "text/plain": [
       "0.9933464224059201"
      ]
     },
     "execution_count": 10,
     "metadata": {},
     "output_type": "execute_result"
    }
   ],
   "source": [
    "data['Add4(in Thousands)'].corr(data['Profit(in Thousands)'])"
   ]
  },
  {
   "cell_type": "markdown",
   "id": "0b37808d",
   "metadata": {},
   "source": [
    "Amount spend through company4 for Advertisement and its profit are highly correlated. That is, as amount for advertisement increases profit also increases"
   ]
  },
  {
   "cell_type": "markdown",
   "id": "c441c17f",
   "metadata": {},
   "source": [
    "# Correlation between Add5 and Profit"
   ]
  },
  {
   "cell_type": "code",
   "execution_count": 12,
   "id": "342cdb45",
   "metadata": {},
   "outputs": [
    {
     "data": {
      "text/plain": [
       "0.9937096795335207"
      ]
     },
     "execution_count": 12,
     "metadata": {},
     "output_type": "execute_result"
    }
   ],
   "source": [
    "data['Add5(in Thousands)'].corr(data['Profit(in Thousands)'])"
   ]
  },
  {
   "cell_type": "markdown",
   "id": "13f02ba8",
   "metadata": {},
   "source": [
    "Amount spend through company5 for Advertisement and its profit are highly correlated. That is, as amount for advertisement increases profit also increases"
   ]
  },
  {
   "cell_type": "markdown",
   "id": "59eee652",
   "metadata": {},
   "source": [
    "# 2.Build a regression model to predict the profit from the given data and comment your findings on it "
   ]
  },
  {
   "cell_type": "code",
   "execution_count": 56,
   "id": "82abd63f",
   "metadata": {},
   "outputs": [
    {
     "data": {
      "text/plain": [
       "<AxesSubplot:>"
      ]
     },
     "execution_count": 56,
     "metadata": {},
     "output_type": "execute_result"
    },
    {
     "data": {
      "image/png": "[encoded data removed]",
      "text/plain": [
       "<Figure size 1440x576 with 2 Axes>"
      ]
     },
     "metadata": {
      "needs_background": "light"
     },
     "output_type": "display_data"
    }
   ],
   "source": [
    "corrmatrix=data.corr()\n",
    "plt.subplots(figsize=(20,8))\n",
    "sns.heatmap(corrmatrix,vmin=-.2,vmax=0.8,annot=True,linewidth=0.2)"
   ]
  },
  {
   "cell_type": "markdown",
   "id": "f443c58c",
   "metadata": {},
   "source": [
    "Amount spend through five companies is positively correlated with profit. Thus in this case feature reduction is not needed."
   ]
  },
  {
   "cell_type": "code",
   "execution_count": 14,
   "id": "94b2b578",
   "metadata": {},
   "outputs": [
    {
     "data": {
      "text/plain": [
       "Index(['Date', 'Add1(in Thousands)', 'Add2(in Thousands)',\n",
       "       'Add3(in Thousands)', 'Add4(in Thousands)', 'Add5(in Thousands)',\n",
       "       'Profit(in Thousands)'],\n",
       "      dtype='object')"
      ]
     },
     "execution_count": 14,
     "metadata": {},
     "output_type": "execute_result"
    }
   ],
   "source": [
    "data.columns"
   ]
  },
  {
   "cell_type": "code",
   "execution_count": 15,
   "id": "c3b6c34f",
   "metadata": {},
   "outputs": [],
   "source": [
    "y=data['Profit(in Thousands)']\n",
    "x=data.drop(['Profit(in Thousands)','Date'],axis=1)\n"
   ]
  },
  {
   "cell_type": "code",
   "execution_count": 16,
   "id": "fdb206e7",
   "metadata": {},
   "outputs": [
    {
     "data": {
      "text/plain": [
       "(205, 5)"
      ]
     },
     "execution_count": 16,
     "metadata": {},
     "output_type": "execute_result"
    }
   ],
   "source": [
    "x.shape"
   ]
  },
  {
   "cell_type": "code",
   "execution_count": 17,
   "id": "2d48bde3",
   "metadata": {},
   "outputs": [],
   "source": [
    "from sklearn.model_selection import train_test_split\n",
    "x_train,x_test,y_train,y_test=train_test_split(x,y,random_state=42,test_size=0.25)"
   ]
  },
  {
   "cell_type": "code",
   "execution_count": 18,
   "id": "931712d6",
   "metadata": {},
   "outputs": [],
   "source": [
    "from sklearn import linear_model"
   ]
  },
  {
   "cell_type": "code",
   "execution_count": 19,
   "id": "92d1f4dc",
   "metadata": {},
   "outputs": [],
   "source": [
    "lr=linear_model.LinearRegression()"
   ]
  },
  {
   "cell_type": "code",
   "execution_count": 20,
   "id": "fe84894a",
   "metadata": {},
   "outputs": [],
   "source": [
    "model=lr.fit(x_train,y_train)"
   ]
  },
  {
   "cell_type": "code",
   "execution_count": 21,
   "id": "20165137",
   "metadata": {},
   "outputs": [],
   "source": [
    "predictions=model.predict(x_test)"
   ]
  },
  {
   "cell_type": "code",
   "execution_count": 22,
   "id": "29924a51",
   "metadata": {},
   "outputs": [
    {
     "name": "stdout",
     "output_type": "stream",
     "text": [
      "15     4152.066\n",
      "9      4446.441\n",
      "100    5131.898\n",
      "132    4907.560\n",
      "68     5004.282\n",
      "95     4623.793\n",
      "159    5384.175\n",
      "162    5328.025\n",
      "147    5175.051\n",
      "182    5956.323\n",
      "191    5780.799\n",
      "164    4997.719\n",
      "65     5075.858\n",
      "175    5784.540\n",
      "73     4936.120\n",
      "152    5065.652\n",
      "18     4190.965\n",
      "82     5034.726\n",
      "86     5015.536\n",
      "143    5134.657\n",
      "60     5145.131\n",
      "101    5421.940\n",
      "98     4569.293\n",
      "30     4598.292\n",
      "25     4436.321\n",
      "16     4175.677\n",
      "168    5616.791\n",
      "195    5667.250\n",
      "97     4648.834\n",
      "194    5717.838\n",
      "67     5001.615\n",
      "120    5182.368\n",
      "154    5017.503\n",
      "202    5545.013\n",
      "79     5013.207\n",
      "69     5030.451\n",
      "145    5108.626\n",
      "55     4760.877\n",
      "45     4606.340\n",
      "84     4925.861\n",
      "146    5250.788\n",
      "66     5038.222\n",
      "111    5491.792\n",
      "153    5019.997\n",
      "96     4647.356\n",
      "38     4486.380\n",
      "24     4435.174\n",
      "139    5300.437\n",
      "112    5425.190\n",
      "29     4482.183\n",
      "19     4193.095\n",
      "178    6062.457\n",
      "Name: Profit(in Thousands), dtype: float64\n"
     ]
    }
   ],
   "source": [
    "print(y_test)"
   ]
  },
  {
   "cell_type": "code",
   "execution_count": 23,
   "id": "be3b6883",
   "metadata": {},
   "outputs": [
    {
     "name": "stdout",
     "output_type": "stream",
     "text": [
      "[4152.066 4446.441 5131.898 4907.56  5004.282 4623.793 5384.175 5328.025\n",
      " 5175.051 5956.323 5780.799 4997.719 5075.858 5784.54  4936.12  5065.652\n",
      " 4190.965 5034.726 5015.536 5134.657 5145.131 5421.94  4569.293 4598.292\n",
      " 4436.321 4175.677 5616.791 5667.25  4648.834 5717.838 5001.615 5182.368\n",
      " 5017.503 5545.013 5013.207 5030.451 5108.626 4760.877 4606.34  4925.861\n",
      " 5250.788 5038.222 5491.792 5019.997 4647.356 4486.38  4435.174 5300.437\n",
      " 5425.19  4482.183 4193.095 6062.457]\n"
     ]
    }
   ],
   "source": [
    "print(predictions)"
   ]
  },
  {
   "cell_type": "markdown",
   "id": "62fe9346",
   "metadata": {},
   "source": [
    "These are the predicted profit generated values by giving 25% of data as test data from the given daat set model.And by comparing the values from the y_test data and the prediction_model data we can see that almost all the values are the same."
   ]
  },
  {
   "cell_type": "code",
   "execution_count": 28,
   "id": "545aafb3",
   "metadata": {},
   "outputs": [],
   "source": [
    "from sklearn.metrics import mean_squared_error"
   ]
  },
  {
   "cell_type": "code",
   "execution_count": 30,
   "id": "99fda973",
   "metadata": {},
   "outputs": [
    {
     "name": "stdout",
     "output_type": "stream",
     "text": [
      "MSE is: 8.11273293080854e-25\n"
     ]
    }
   ],
   "source": [
    "print(\"MSE is:\",mean_squared_error(y_test,predictions))"
   ]
  },
  {
   "cell_type": "markdown",
   "id": "24c4a0f8",
   "metadata": {},
   "source": [
    "The Mean Square Error is very small. So the regression line perfectly fits, which indicates the predictions are accurate and perfect."
   ]
  },
  {
   "cell_type": "markdown",
   "id": "b3060e89",
   "metadata": {},
   "source": [
    "# 3.Predict the profit generated by the company, if they wish to spend the following amount for advertisement\n",
    "  "
   ]
  },
  {
   "cell_type": "raw",
   "id": "256bcc56",
   "metadata": {},
   "source": [
    "Add1- 290\n",
    "Add2- 312\n",
    "Add3- 309\n",
    "Add4- 298\n",
    "Add5- 320"
   ]
  },
  {
   "cell_type": "code",
   "execution_count": 31,
   "id": "3b9cf3f2",
   "metadata": {},
   "outputs": [
    {
     "data": {
      "text/plain": [
       "5820.0599999999995"
      ]
     },
     "execution_count": 31,
     "metadata": {},
     "output_type": "execute_result"
    }
   ],
   "source": [
    "make_pred=[[290,312,309,298,320]]\n",
    "model.predict(make_pred).item()"
   ]
  },
  {
   "cell_type": "markdown",
   "id": "03260f24",
   "metadata": {},
   "source": [
    "Hence the predicted value for profit when the amount spent for advertisements takes given values is 5820.06 "
   ]
  }
 ],
 "metadata": {
  "kernelspec": {
   "display_name": "Python 3",
   "language": "python",
   "name": "python3"
  },
  "language_info": {
   "codemirror_mode": {
    "name": "ipython",
    "version": 3
   },
   "file_extension": ".py",
   "mimetype": "text/x-python",
   "name": "python",
   "nbconvert_exporter": "python",
   "pygments_lexer": "ipython3",
   "version": "3.8.8"
  }
 },
 "nbformat": 4,
 "nbformat_minor": 5
}
